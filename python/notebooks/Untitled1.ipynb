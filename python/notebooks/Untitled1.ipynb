{
 "cells": [
  {
   "cell_type": "code",
   "execution_count": 1,
   "id": "a34d0623-7e6e-45f3-8e03-747e6f2b9528",
   "metadata": {},
   "outputs": [],
   "source": [
    "%run rc.ipynb"
   ]
  },
  {
   "cell_type": "code",
   "execution_count": 1,
   "id": "81f0642c-bdfa-4b4f-b535-a1b9d0e9623f",
   "metadata": {},
   "outputs": [
    {
     "data": {
      "text/latex": [
       "$\\displaystyle \\left[\\begin{matrix}a & b & c\\end{matrix}\\right]$"
      ],
      "text/plain": [
       "Matrix([[a, b, c]])"
      ]
     },
     "execution_count": 1,
     "metadata": {},
     "output_type": "execute_result"
    }
   ],
   "source": [
    "%var a b c"
   ]
  },
  {
   "cell_type": "code",
   "execution_count": 7,
   "id": "df0e8ffb-e819-4aed-8df0-ef2f78a3549d",
   "metadata": {},
   "outputs": [
    {
     "data": {
      "text/latex": [
       "$\\displaystyle x^{2} + y^{2} = 1$"
      ],
      "text/plain": [
       "Eq(x**2 + y**2, 1)"
      ]
     },
     "execution_count": 7,
     "metadata": {},
     "output_type": "execute_result"
    }
   ],
   "source": [
    "circle = %s x ** 2 + y ** 2 = 1"
   ]
  },
  {
   "cell_type": "code",
   "execution_count": null,
   "id": "411d7c3c-739a-411d-87fe-6c24b500a8cc",
   "metadata": {},
   "outputs": [],
   "source": []
  },
  {
   "cell_type": "code",
   "execution_count": null,
   "id": "211dc7d9-a64c-474e-aa3a-df1777de0a1d",
   "metadata": {},
   "outputs": [],
   "source": []
  },
  {
   "cell_type": "code",
   "execution_count": 5,
   "id": "d74fb847-f2f2-4630-b018-eb9681d736a2",
   "metadata": {},
   "outputs": [
    {
     "data": {
      "text/plain": [
       "2"
      ]
     },
     "execution_count": 5,
     "metadata": {},
     "output_type": "execute_result"
    }
   ],
   "source": [
    "a = 2"
   ]
  },
  {
   "cell_type": "code",
   "execution_count": null,
   "id": "a9a6eb71-def9-40d4-b808-5b8a3fb2f9ca",
   "metadata": {},
   "outputs": [],
   "source": []
  },
  {
   "cell_type": "code",
   "execution_count": 161,
   "id": "c809ef6b-a9ec-4a6f-9f5b-7b80aab0edae",
   "metadata": {},
   "outputs": [
    {
     "data": {
      "text/latex": [
       "$\\displaystyle f{\\left(x \\right)} = 2 x$"
      ],
      "text/plain": [
       "Eq(f(x), 2*x)"
      ]
     },
     "execution_count": 161,
     "metadata": {},
     "output_type": "execute_result"
    }
   ],
   "source": [
    "f = sp.S('Eq(f(x), 2 * x)')\n",
    "f"
   ]
  },
  {
   "cell_type": "code",
   "execution_count": 166,
   "id": "6d22c03b-0732-4ade-989f-326098653141",
   "metadata": {},
   "outputs": [],
   "source": [
    "foo = %sp x y"
   ]
  },
  {
   "cell_type": "code",
   "execution_count": 189,
   "id": "63626f73-d402-404b-a47c-a8cfca507f9e",
   "metadata": {},
   "outputs": [
    {
     "name": "stdout",
     "output_type": "stream",
     "text": [
      "é\n"
     ]
    }
   ],
   "source": [
    "match type(sp.S('x, y')):\n",
    "    case tuple: print('é')"
   ]
  },
  {
   "cell_type": "code",
   "execution_count": null,
   "id": "f1f5e4b4-06e2-4ad2-aeef-fd3a702660b6",
   "metadata": {},
   "outputs": [],
   "source": []
  },
  {
   "cell_type": "code",
   "execution_count": null,
   "id": "e50444ab-a48a-4587-a19d-1e184a4cba1e",
   "metadata": {},
   "outputs": [],
   "source": []
  },
  {
   "cell_type": "code",
   "execution_count": null,
   "id": "58a0d73a-6cd9-4411-9870-fdae75ca3e0a",
   "metadata": {},
   "outputs": [],
   "source": []
  },
  {
   "cell_type": "code",
   "execution_count": null,
   "id": "b40cfca8-24b3-4dcb-bd69-5851b934a072",
   "metadata": {},
   "outputs": [],
   "source": []
  },
  {
   "cell_type": "code",
   "execution_count": null,
   "id": "450366ba-1a9e-426e-b79c-c5b2c2a899ef",
   "metadata": {},
   "outputs": [],
   "source": []
  },
  {
   "cell_type": "code",
   "execution_count": null,
   "id": "715312b3-e52e-457a-8a74-cb82cf440c8a",
   "metadata": {},
   "outputs": [],
   "source": []
  },
  {
   "cell_type": "code",
   "execution_count": null,
   "id": "90b568c1-f116-4044-bf00-7e7fe7e8f455",
   "metadata": {},
   "outputs": [],
   "source": []
  },
  {
   "cell_type": "code",
   "execution_count": null,
   "id": "7282c797-82fa-420d-a890-955d6228401a",
   "metadata": {},
   "outputs": [],
   "source": []
  },
  {
   "cell_type": "code",
   "execution_count": null,
   "id": "c54ce400-f22f-4e49-a628-7c94e29753a8",
   "metadata": {},
   "outputs": [],
   "source": []
  },
  {
   "cell_type": "code",
   "execution_count": null,
   "id": "52f0f710-c49f-440f-9cc7-d8e9e1fa706b",
   "metadata": {},
   "outputs": [],
   "source": []
  },
  {
   "cell_type": "code",
   "execution_count": null,
   "id": "123219ac-971d-4ab6-ac2f-d81e42e9dd81",
   "metadata": {},
   "outputs": [],
   "source": []
  },
  {
   "cell_type": "code",
   "execution_count": null,
   "id": "a53ced31-0a1e-4d09-967e-90b72bb27669",
   "metadata": {},
   "outputs": [],
   "source": []
  },
  {
   "cell_type": "code",
   "execution_count": null,
   "id": "56ae22d5-ca2e-4f3a-9197-1b4ee2ee8f1f",
   "metadata": {},
   "outputs": [],
   "source": []
  },
  {
   "cell_type": "code",
   "execution_count": null,
   "id": "c19fc9c0-e74b-49fc-8fa0-f2cf23fa6a86",
   "metadata": {},
   "outputs": [],
   "source": []
  },
  {
   "cell_type": "code",
   "execution_count": null,
   "id": "dd389f45-f1df-4bcb-a1f4-d29056f425bb",
   "metadata": {},
   "outputs": [],
   "source": []
  },
  {
   "cell_type": "code",
   "execution_count": null,
   "id": "7c6692f7-20ac-4947-89d3-1f09db6c63f8",
   "metadata": {},
   "outputs": [],
   "source": []
  },
  {
   "cell_type": "code",
   "execution_count": null,
   "id": "a95b9e50-2896-474c-b9fe-ecffe9ad7ebc",
   "metadata": {},
   "outputs": [],
   "source": []
  },
  {
   "cell_type": "code",
   "execution_count": null,
   "id": "7a009063-5448-4ed8-b1dc-1f0df2bc6f71",
   "metadata": {},
   "outputs": [],
   "source": []
  },
  {
   "cell_type": "code",
   "execution_count": null,
   "id": "953282a4-fb97-4b26-a210-118e23d722d0",
   "metadata": {},
   "outputs": [],
   "source": []
  },
  {
   "cell_type": "code",
   "execution_count": null,
   "id": "48a8b64f-0563-4e53-8fb2-5cb2b0c64096",
   "metadata": {},
   "outputs": [],
   "source": []
  },
  {
   "cell_type": "code",
   "execution_count": null,
   "id": "1435bb4a-cd0a-4619-958e-76621fb407dd",
   "metadata": {},
   "outputs": [],
   "source": []
  }
 ],
 "metadata": {
  "kernelspec": {
   "display_name": "Python 3 (ipykernel)",
   "language": "python",
   "name": "python3"
  },
  "language_info": {
   "codemirror_mode": {
    "name": "ipython",
    "version": 3
   },
   "file_extension": ".py",
   "mimetype": "text/x-python",
   "name": "python",
   "nbconvert_exporter": "python",
   "pygments_lexer": "ipython3",
   "version": "3.10.0"
  }
 },
 "nbformat": 4,
 "nbformat_minor": 5
}
