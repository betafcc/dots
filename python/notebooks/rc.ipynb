{
 "cells": [
  {
   "cell_type": "code",
   "execution_count": 6,
   "id": "a78fced6-88fb-469a-a2f1-492daeadc201",
   "metadata": {},
   "outputs": [],
   "source": [
    "%matplotlib inline\n",
    "%load_ext callgraph\n",
    "%load_ext gvmagic\n",
    "# %load_ext lab_black\n",
    "\n",
    "from dataclasses import dataclass\n",
    "\n",
    "import matplotlib\n",
    "matplotlib.rcParams[\"figure.figsize\"] = (15, 10)\n",
    "matplotlib.style.use(\"seaborn\")\n",
    "import matplotlib.pyplot as plt\n",
    "plt.rcParams[\"figure.figsize\"] = (15, 10)\n",
    "import sympy as sp\n",
    "import ipywidgets as widgets\n",
    "from ipywidgets import interact\n",
    "\n",
    "x, y, z = sp.symbols(\"x, y, z\")"
   ]
  },
  {
   "cell_type": "code",
   "execution_count": null,
   "id": "0461431e-39f8-454a-991c-ae58ce490748",
   "metadata": {},
   "outputs": [],
   "source": [
    "# TODO cellmagic\n",
    "# TODO something with https://query.wikidata.org/querybuilder\n",
    "def sparql(query='', width='100%', height='600px'):\n",
    "    from IPython.display import HTML\n",
    "    from urllib.parse import quote\n",
    "\n",
    "    if query:\n",
    "        query = '#' + quote(query)\n",
    "\n",
    "    src = \"https://query.wikidata.org/\" + query\n",
    "    return HTML(f'''\n",
    "        <style>\n",
    "            #wikidata {{\n",
    "                width: {width};\n",
    "                height: {height};\n",
    "                resize: vertical;\n",
    "                overflow: auto;\n",
    "                border-style: solid;\n",
    "                border-color: #eee;\n",
    "            }}\n",
    "        </style>\n",
    "        <iframe\n",
    "            id=\"wikidata\"\n",
    "            frameborder=\"4px\"\n",
    "            cellspacing=\"2\"\n",
    "            src=\"{src}\"\n",
    "            />\n",
    "    ''')"
   ]
  },
  {
   "cell_type": "code",
   "execution_count": null,
   "id": "336c91cc-07bb-49e3-b1bd-4be7ae1f721c",
   "metadata": {},
   "outputs": [],
   "source": []
  },
  {
   "cell_type": "code",
   "execution_count": null,
   "id": "9fe10911-5834-4475-93f1-3b3013403507",
   "metadata": {},
   "outputs": [],
   "source": []
  },
  {
   "cell_type": "code",
   "execution_count": null,
   "id": "b50d4a00-4e56-4a45-8ccc-3cb36c113148",
   "metadata": {},
   "outputs": [],
   "source": []
  },
  {
   "cell_type": "code",
   "execution_count": null,
   "id": "b33b6c44-cc58-4bdf-a93a-44dec7c2e16f",
   "metadata": {},
   "outputs": [],
   "source": []
  },
  {
   "cell_type": "code",
   "execution_count": null,
   "id": "9fdef067-5e57-4009-b932-d0600c202c14",
   "metadata": {},
   "outputs": [],
   "source": []
  },
  {
   "cell_type": "code",
   "execution_count": null,
   "id": "0f7c8118-8160-4cb3-b385-a0af6f488a66",
   "metadata": {},
   "outputs": [],
   "source": []
  },
  {
   "cell_type": "code",
   "execution_count": null,
   "id": "1fb7bf61-e7c2-445f-ada2-4580440b6d4b",
   "metadata": {},
   "outputs": [],
   "source": []
  },
  {
   "cell_type": "code",
   "execution_count": null,
   "id": "61cddb5a-dabb-4690-b7d7-bc12f27e0353",
   "metadata": {},
   "outputs": [],
   "source": []
  },
  {
   "cell_type": "code",
   "execution_count": null,
   "id": "178440a6-aef0-4708-b8c3-959710bbc057",
   "metadata": {},
   "outputs": [],
   "source": []
  },
  {
   "cell_type": "code",
   "execution_count": null,
   "id": "b8d7e7cd-465e-4237-84fd-f4e8c673914a",
   "metadata": {},
   "outputs": [],
   "source": []
  },
  {
   "cell_type": "code",
   "execution_count": null,
   "id": "1d4e00c1-42df-4626-8a38-d9ffca4a99ab",
   "metadata": {},
   "outputs": [],
   "source": []
  },
  {
   "cell_type": "code",
   "execution_count": null,
   "id": "93ffc467-fb73-4dcf-a602-d94aaf1e6d9b",
   "metadata": {},
   "outputs": [],
   "source": []
  },
  {
   "cell_type": "code",
   "execution_count": null,
   "id": "d7f306d9-100e-4a11-a200-a2d3bbd74987",
   "metadata": {},
   "outputs": [],
   "source": []
  },
  {
   "cell_type": "code",
   "execution_count": null,
   "id": "1bd76234-1264-465c-bb5d-c41e0e0b4970",
   "metadata": {},
   "outputs": [],
   "source": []
  },
  {
   "cell_type": "code",
   "execution_count": null,
   "id": "f257faa5-0ae2-4dae-bd6b-3e6f4d06ce13",
   "metadata": {},
   "outputs": [],
   "source": []
  },
  {
   "cell_type": "code",
   "execution_count": null,
   "id": "803bb404-7a2b-416b-a64c-544e039fad42",
   "metadata": {},
   "outputs": [],
   "source": []
  },
  {
   "cell_type": "code",
   "execution_count": null,
   "id": "bb679bc6-ba8c-4c4e-977f-1f798d37f519",
   "metadata": {},
   "outputs": [],
   "source": []
  },
  {
   "cell_type": "code",
   "execution_count": null,
   "id": "24775d50-09fb-4ff3-ad84-93f17f4d3ea7",
   "metadata": {},
   "outputs": [],
   "source": []
  },
  {
   "cell_type": "code",
   "execution_count": null,
   "id": "c88c77ac-c78b-4f5b-8634-371818f1dff3",
   "metadata": {},
   "outputs": [],
   "source": []
  },
  {
   "cell_type": "code",
   "execution_count": null,
   "id": "41da9fec-cf57-4cdc-8797-06c7eaacd140",
   "metadata": {},
   "outputs": [],
   "source": []
  }
 ],
 "metadata": {
  "kernelspec": {
   "display_name": "Python 3 (ipykernel)",
   "language": "python",
   "name": "python3"
  },
  "language_info": {
   "codemirror_mode": {
    "name": "ipython",
    "version": 3
   },
   "file_extension": ".py",
   "mimetype": "text/x-python",
   "name": "python",
   "nbconvert_exporter": "python",
   "pygments_lexer": "ipython3",
   "version": "3.10.0"
  }
 },
 "nbformat": 4,
 "nbformat_minor": 5
}
