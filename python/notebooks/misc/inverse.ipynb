{
 "cells": [
  {
   "cell_type": "markdown",
   "id": "9208cc16-a9b6-41be-a287-482186c003b0",
   "metadata": {},
   "source": [
    "```\n",
    "0 * c = 0\n",
    "x * c = (x - 1) * c + c\n",
    "\n",
    "mul(0, c) = 0\n",
    "mul(x, c) = add(mul(dec(x), c), c)\n",
    "\n",
    "mul(x, c) = x -> dec(_) -> mul(_, c) -> add(_, c)\n",
    "\n",
    "inv(mul)(x, c) = x -> inv(add)(_, c) -> inv(mul)(_, c) -> inv(dec)(_)\n",
    "div(x, c) = x -> sub(_, c) -> div(_, c) -> inc(_)\n",
    "div(x, c) = inc(div(sub(x, c), c))\n",
    "\n",
    "0 / c = 0\n",
    "x / c = ((x - c) / c) + 1\n",
    "```"
   ]
  },
  {
   "cell_type": "markdown",
   "id": "a9154a56-d1a1-4c16-9809-28acc5209369",
   "metadata": {},
   "source": [
    "fib(0) = 0\n",
    "fib(1) = 1\n",
    "fib(x) = fib(dec(x)) + fib(dec(dec(2)))\n",
    "\n",
    "fib(x) = add(\n",
    "    x -> dec(_) -> fib(_),\n",
    "    x -> dec(_) -> dec(_) -> fib(_),\n",
    ")\n",
    "\n",
    "\n",
    "fib(x) = x -> dec(_) | -> fib(_)           | -> add(_, _)\n",
    "                     | -> dec(_) -> fib(_) | \n",
    "\n",
    "\n",
    "f(x) = x ** 2 - x\n",
    "f(x) = sub(pow(x, 2), x)\n",
    "\n",
    "inv(f)(x) = 1/2 * (1 - (1 + 4 * x) ** 0.5)\n",
    "\n",
    "\n",
    "inv(f)(x) = mul(sub(1, pow(inc(mul(x, 4)), div(1, 2))), div(1, 2))\n",
    "\n",
    "inv(f)(x)\n",
    "    =  x\n",
    "    -> mul(_, 4)\n",
    "    -> inc(_)\n",
    "    -> pow(_, div(1, 2))\n",
    "    -> sub(1, _)\n",
    "    -> mul(_, div(1, 2))\n",
    "\n",
    "\n",
    "\n",
    "g(x) = half(sub(1, root(inc(quad(x)))))\n",
    "g(x)\n",
    "    =  x\n",
    "    -> quad(_)\n",
    "    -> inc(_)\n",
    "    -> root(_)\n",
    "    -> minus(_)\n",
    "    -> inc(_)\n",
    "    -> half(_)\n",
    "\n",
    "inv(g)(x)\n",
    "    =  x\n",
    "    -> double(_)\n",
    "    -> dec(_)\n",
    "    -> minus(_)\n",
    "    -> square(_)\n",
    "    -> dec(_)\n",
    "    -> fourth(_)\n",
    "\n",
    "inv(g)(x) = ((-(2x - 1))^2 - 1) / 4\n",
    "\n",
    "\n",
    "inv(g)(x) = \n",
    "\n",
    "\n",
    "f(x)\n",
    "    =  x\n",
    "    -> inv(mul)(_, div(1, 2))\n",
    "    -> inv(sub)(1, _)\n",
    "    -> inv(pow)(_, div(1, 2))\n",
    "    -> inv(inc)(_)\n",
    "    -> inv(mul)(_, 4)\n",
    "\n",
    "f(x)\n",
    "    =  x\n",
    "    -> mul(_, 2)\n",
    "    -> add(1, _)\n",
    "    -> pow(_, 2)\n",
    "    -> dec(_)\n",
    "    -> div(_, 4)\n",
    "\n",
    "f(x) =  (((x * 2 + 1) ** 2) - 1) / 4\n",
    "(2x + 1) ** 2 = 4x² + 4x"
   ]
  },
  {
   "cell_type": "code",
   "execution_count": 7,
   "id": "7a1de13a-36ab-4560-afe9-dbe7baf7c828",
   "metadata": {},
   "outputs": [
    {
     "data": {
      "text/html": [
       "\n",
       "            <script\n",
       "                id=\"output-4535717216\"\n",
       "            >pre_run_cell && pre_run_cell('4535717216')</script>\n",
       "        "
      ],
      "text/plain": [
       "<IPython.core.display.HTML object>"
      ]
     },
     "metadata": {},
     "output_type": "display_data"
    },
    {
     "data": {
      "text/plain": [
       "0.11235955056179775"
      ]
     },
     "execution_count": 7,
     "metadata": {},
     "output_type": "execute_result"
    },
    {
     "data": {
      "text/html": [
       "\n",
       "            <script>post_run_cell && post_run_cell('4535717216', 'True')</script>\n",
       "        "
      ],
      "text/plain": [
       "<IPython.core.display.HTML object>"
      ]
     },
     "metadata": {},
     "output_type": "display_data"
    }
   ],
   "source": [
    "f = lambda x: x / (1 - x - x ** 2)\n",
    "f(-10)"
   ]
  },
  {
   "cell_type": "code",
   "execution_count": null,
   "id": "5f1359cd-f72e-496a-aff6-92bb29de44a0",
   "metadata": {},
   "outputs": [],
   "source": []
  },
  {
   "cell_type": "code",
   "execution_count": null,
   "id": "8b1c568e-2aa9-4eba-bb70-10b7047ee30c",
   "metadata": {},
   "outputs": [],
   "source": []
  },
  {
   "cell_type": "code",
   "execution_count": null,
   "id": "d6352429-50b7-4454-89dd-b869023f131d",
   "metadata": {},
   "outputs": [],
   "source": []
  },
  {
   "cell_type": "code",
   "execution_count": null,
   "id": "1dbc6d37-8f8e-4867-8814-4e9a2776d766",
   "metadata": {},
   "outputs": [],
   "source": []
  },
  {
   "cell_type": "markdown",
   "id": "0e3f8fec-1b28-496a-8c46-5265adb80da8",
   "metadata": {},
   "source": [
    "fib 0 = 0\n",
    "fib 1 = 1\n",
    "fib x = fib (x - 1) + fib (x - 2)\n",
    "\n",
    "\n",
    "fib(x) = join(add, split(dec(x), fib, fib . dec))"
   ]
  },
  {
   "cell_type": "code",
   "execution_count": null,
   "id": "9ac49754-4923-414b-8643-0248e85b6688",
   "metadata": {},
   "outputs": [],
   "source": []
  },
  {
   "cell_type": "code",
   "execution_count": null,
   "id": "c72e5a72-2df7-4d61-98f4-53683c4be725",
   "metadata": {},
   "outputs": [],
   "source": []
  },
  {
   "cell_type": "code",
   "execution_count": null,
   "id": "ea73b8e8-7ff0-49e5-99cc-596702dee227",
   "metadata": {},
   "outputs": [],
   "source": []
  },
  {
   "cell_type": "markdown",
   "id": "a8e28838-850a-40a5-9d85-eb50c53825e5",
   "metadata": {},
   "source": [
    "f(x) = x² - x\n",
    "f(x) = x(x - 1)\n",
    "f(x)\n",
    "    =  ((-(2x - 1))^2 - 1) / 4"
   ]
  },
  {
   "cell_type": "code",
   "execution_count": null,
   "id": "bc97a2e2-6b58-4ec3-a1db-ee48bbcb54b1",
   "metadata": {},
   "outputs": [],
   "source": []
  },
  {
   "cell_type": "code",
   "execution_count": 54,
   "id": "3ef09c92-7d51-4970-81cb-6fb9b462ec65",
   "metadata": {},
   "outputs": [
    {
     "data": {
      "text/html": [
       "\n",
       "            <script\n",
       "                id=\"output-4557474016\"\n",
       "            >pre_run_cell && pre_run_cell('4557474016')</script>\n",
       "        "
      ],
      "text/plain": [
       "<IPython.core.display.HTML object>"
      ]
     },
     "metadata": {},
     "output_type": "display_data"
    },
    {
     "data": {
      "text/html": [
       "\n",
       "            <script>post_run_cell && post_run_cell('4557474016', 'True')</script>\n",
       "        "
      ],
      "text/plain": [
       "<IPython.core.display.HTML object>"
      ]
     },
     "metadata": {},
     "output_type": "display_data"
    }
   ],
   "source": [
    "from math import log"
   ]
  },
  {
   "cell_type": "code",
   "execution_count": 71,
   "id": "316e5b68-a614-4e08-9953-6c62af412d07",
   "metadata": {},
   "outputs": [
    {
     "data": {
      "text/html": [
       "\n",
       "            <script\n",
       "                id=\"output-4550517760\"\n",
       "            >pre_run_cell && pre_run_cell('4550517760')</script>\n",
       "        "
      ],
      "text/plain": [
       "<IPython.core.display.HTML object>"
      ]
     },
     "metadata": {},
     "output_type": "display_data"
    },
    {
     "data": {
      "text/plain": [
       "55.00363612324743"
      ]
     },
     "execution_count": 71,
     "metadata": {},
     "output_type": "execute_result"
    },
    {
     "data": {
      "text/html": [
       "\n",
       "            <script>post_run_cell && post_run_cell('4550517760', 'True')</script>\n",
       "        "
      ],
      "text/plain": [
       "<IPython.core.display.HTML object>"
      ]
     },
     "metadata": {},
     "output_type": "display_data"
    }
   ],
   "source": [
    "phi = (1 + 5 ** 0.5) / 2\n",
    "\n",
    "'''\n",
    "x -> pow(phi, _) -> div(_, 5 ** 0.5)\n",
    "\n",
    "'''\n",
    "\n",
    "def fib(x):\n",
    "    return phi ** x / 5 ** 0.5\n",
    "\n",
    "\n",
    "fib(10)"
   ]
  },
  {
   "cell_type": "code",
   "execution_count": 84,
   "id": "5a2a3e82-a99a-47d0-92b1-5093499ecdf4",
   "metadata": {},
   "outputs": [
    {
     "data": {
      "text/html": [
       "\n",
       "            <script\n",
       "                id=\"output-4468910496\"\n",
       "            >pre_run_cell && pre_run_cell('4468910496')</script>\n",
       "        "
      ],
      "text/plain": [
       "<IPython.core.display.HTML object>"
      ]
     },
     "metadata": {},
     "output_type": "display_data"
    },
    {
     "data": {
      "text/plain": [
       "8"
      ]
     },
     "execution_count": 84,
     "metadata": {},
     "output_type": "execute_result"
    },
    {
     "data": {
      "text/html": [
       "\n",
       "            <script>post_run_cell && post_run_cell('4468910496', 'True')</script>\n",
       "        "
      ],
      "text/plain": [
       "<IPython.core.display.HTML object>"
      ]
     },
     "metadata": {},
     "output_type": "display_data"
    }
   ],
   "source": [
    "pow(2, 3)"
   ]
  },
  {
   "cell_type": "code",
   "execution_count": 86,
   "id": "7feec4ef-15fc-46b2-85fb-25a97d57846c",
   "metadata": {},
   "outputs": [
    {
     "data": {
      "text/html": [
       "\n",
       "            <script\n",
       "                id=\"output-4468908672\"\n",
       "            >pre_run_cell && pre_run_cell('4468908672')</script>\n",
       "        "
      ],
      "text/plain": [
       "<IPython.core.display.HTML object>"
      ]
     },
     "metadata": {},
     "output_type": "display_data"
    },
    {
     "data": {
      "text/plain": [
       "3.0"
      ]
     },
     "execution_count": 86,
     "metadata": {},
     "output_type": "execute_result"
    },
    {
     "data": {
      "text/html": [
       "\n",
       "            <script>post_run_cell && post_run_cell('4468908672', 'True')</script>\n",
       "        "
      ],
      "text/plain": [
       "<IPython.core.display.HTML object>"
      ]
     },
     "metadata": {},
     "output_type": "display_data"
    }
   ],
   "source": [
    "log(8, 2)"
   ]
  },
  {
   "cell_type": "code",
   "execution_count": null,
   "id": "0d49f3bf-eb7a-4474-8d5d-231bfba04e9f",
   "metadata": {},
   "outputs": [],
   "source": []
  },
  {
   "cell_type": "code",
   "execution_count": null,
   "id": "302c4744-b351-4c3d-b951-c0420b64c365",
   "metadata": {},
   "outputs": [],
   "source": []
  },
  {
   "cell_type": "code",
   "execution_count": 89,
   "id": "9de97c28-874c-4752-ae25-b370c300a132",
   "metadata": {},
   "outputs": [
    {
     "data": {
      "text/html": [
       "\n",
       "            <script\n",
       "                id=\"output-4557504816\"\n",
       "            >pre_run_cell && pre_run_cell('4557504816')</script>\n",
       "        "
      ],
      "text/plain": [
       "<IPython.core.display.HTML object>"
      ]
     },
     "metadata": {},
     "output_type": "display_data"
    },
    {
     "data": {
      "text/plain": [
       "9.999862619447256"
      ]
     },
     "execution_count": 89,
     "metadata": {},
     "output_type": "execute_result"
    },
    {
     "data": {
      "text/html": [
       "\n",
       "            <script>post_run_cell && post_run_cell('4557504816', 'True')</script>\n",
       "        "
      ],
      "text/plain": [
       "<IPython.core.display.HTML object>"
      ]
     },
     "metadata": {},
     "output_type": "display_data"
    }
   ],
   "source": [
    "def bif(x):\n",
    "    return log(x * (5 ** 0.5), phi)\n",
    "\n",
    "bif(55)"
   ]
  },
  {
   "cell_type": "code",
   "execution_count": null,
   "id": "bce4ec4a-2230-48a1-b264-94844d63da3f",
   "metadata": {},
   "outputs": [],
   "source": []
  },
  {
   "cell_type": "code",
   "execution_count": null,
   "id": "adf1f36c-6406-486b-97cb-e2d0b373819d",
   "metadata": {},
   "outputs": [],
   "source": []
  },
  {
   "cell_type": "code",
   "execution_count": null,
   "id": "def3b296-ff17-4d18-bd2b-e4fcaa0a1308",
   "metadata": {},
   "outputs": [],
   "source": []
  },
  {
   "cell_type": "code",
   "execution_count": null,
   "id": "de44d530-aeff-4654-a110-67c1676a8636",
   "metadata": {},
   "outputs": [],
   "source": []
  },
  {
   "cell_type": "code",
   "execution_count": null,
   "id": "8d238782-57c7-4144-ae86-dae48547fb41",
   "metadata": {},
   "outputs": [],
   "source": []
  },
  {
   "cell_type": "code",
   "execution_count": null,
   "id": "63579421-e774-4f08-adc4-367f24f28aff",
   "metadata": {},
   "outputs": [],
   "source": []
  },
  {
   "cell_type": "code",
   "execution_count": null,
   "id": "3b7a35a3-fd48-4baf-86ea-fe8e7f00ffb8",
   "metadata": {},
   "outputs": [],
   "source": []
  },
  {
   "cell_type": "code",
   "execution_count": null,
   "id": "52fac454-0bcc-453d-a170-568adfdbf173",
   "metadata": {},
   "outputs": [],
   "source": []
  },
  {
   "cell_type": "code",
   "execution_count": null,
   "id": "deaa4488-fd04-4a1d-a0c1-56f7e6bdbf96",
   "metadata": {},
   "outputs": [],
   "source": []
  },
  {
   "cell_type": "code",
   "execution_count": null,
   "id": "7a706cc7-dc43-4318-a11e-915d50f3e8af",
   "metadata": {},
   "outputs": [],
   "source": []
  }
 ],
 "metadata": {
  "kernelspec": {
   "display_name": "Python 3 (ipykernel)",
   "language": "python",
   "name": "python3"
  },
  "language_info": {
   "codemirror_mode": {
    "name": "ipython",
    "version": 3
   },
   "file_extension": ".py",
   "mimetype": "text/x-python",
   "name": "python",
   "nbconvert_exporter": "python",
   "pygments_lexer": "ipython3",
   "version": "3.9.2"
  }
 },
 "nbformat": 4,
 "nbformat_minor": 5
}
