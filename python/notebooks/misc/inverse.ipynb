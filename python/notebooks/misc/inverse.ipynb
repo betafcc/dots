{
 "cells": [
  {
   "cell_type": "markdown",
   "id": "d2bcd4dc-df5c-40a3-a1c2-459b8e0b9aa2",
   "metadata": {},
   "source": [
    "$$\n",
    "+: \\mathbb{Z} \\times \\mathbb{Z} \\rightarrow \\mathbb{Z} \\\\\n",
    "x \\mapsto x \n",
    "$$"
   ]
  },
  {
   "cell_type": "code",
   "execution_count": null,
   "id": "99848ded-26cd-42b6-b74e-eeccc10f5f2d",
   "metadata": {},
   "outputs": [],
   "source": []
  },
  {
   "cell_type": "code",
   "execution_count": null,
   "id": "5ec0f86b-22c9-4b21-90d5-9df461e1878d",
   "metadata": {},
   "outputs": [],
   "source": []
  },
  {
   "cell_type": "code",
   "execution_count": null,
   "id": "49dd5dd4-3a77-4eee-bf9c-350f8bf34ae8",
   "metadata": {},
   "outputs": [],
   "source": []
  },
  {
   "cell_type": "code",
   "execution_count": null,
   "id": "de44d530-aeff-4654-a110-67c1676a8636",
   "metadata": {},
   "outputs": [],
   "source": []
  },
  {
   "cell_type": "code",
   "execution_count": null,
   "id": "8d238782-57c7-4144-ae86-dae48547fb41",
   "metadata": {},
   "outputs": [],
   "source": []
  },
  {
   "cell_type": "code",
   "execution_count": null,
   "id": "63579421-e774-4f08-adc4-367f24f28aff",
   "metadata": {},
   "outputs": [],
   "source": []
  },
  {
   "cell_type": "code",
   "execution_count": null,
   "id": "3b7a35a3-fd48-4baf-86ea-fe8e7f00ffb8",
   "metadata": {},
   "outputs": [],
   "source": []
  },
  {
   "cell_type": "code",
   "execution_count": null,
   "id": "52fac454-0bcc-453d-a170-568adfdbf173",
   "metadata": {},
   "outputs": [],
   "source": []
  },
  {
   "cell_type": "code",
   "execution_count": null,
   "id": "deaa4488-fd04-4a1d-a0c1-56f7e6bdbf96",
   "metadata": {},
   "outputs": [],
   "source": []
  },
  {
   "cell_type": "code",
   "execution_count": null,
   "id": "7a706cc7-dc43-4318-a11e-915d50f3e8af",
   "metadata": {},
   "outputs": [],
   "source": []
  }
 ],
 "metadata": {
  "kernelspec": {
   "display_name": "Python 3 (ipykernel)",
   "language": "python",
   "name": "python3"
  },
  "language_info": {
   "codemirror_mode": {
    "name": "ipython",
    "version": 3
   },
   "file_extension": ".py",
   "mimetype": "text/x-python",
   "name": "python",
   "nbconvert_exporter": "python",
   "pygments_lexer": "ipython3",
   "version": "3.10.0"
  }
 },
 "nbformat": 4,
 "nbformat_minor": 5
}
