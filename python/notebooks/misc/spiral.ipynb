{
 "cells": [
  {
   "cell_type": "code",
   "execution_count": 80,
   "id": "95de512b-4b29-4b05-8fb1-f4d874182bd3",
   "metadata": {},
   "outputs": [
    {
     "data": {
      "text/plain": [
       "array([[ 73,  74,  75,  76,  77,  78,  79,  80,  81,  82],\n",
       "       [ 72,  43,  44,  45,  46,  47,  48,  49,  50,  83],\n",
       "       [ 71,  42,  21,  22,  23,  24,  25,  26,  51,  84],\n",
       "       [ 70,  41,  20,   7,   8,   9,  10,  27,  52,  85],\n",
       "       [ 69,  40,  19,   6,   1,   2,  11,  28,  53,  86],\n",
       "       [ 68,  39,  18,   5,   4,   3,  12,  29,  54,  87],\n",
       "       [ 67,  38,  17,  16,  15,  14,  13,  30,  55,  88],\n",
       "       [ 66,  37,  36,  35,  34,  33,  32,  31,  56,  89],\n",
       "       [ 65,  64,  63,  62,  61,  60,  59,  58,  57,  90],\n",
       "       [100,  99,  98,  97,  96,  95,  94,  93,  92,  91]])"
      ]
     },
     "execution_count": 80,
     "metadata": {},
     "output_type": "execute_result"
    }
   ],
   "source": [
    "from itertools import islice\n",
    "\n",
    "import numpy as np\n",
    "\n",
    "def spiral():\n",
    "    x, y = 0, 0\n",
    "    layer = 1\n",
    "\n",
    "    yield (x, y)\n",
    "    while True:\n",
    "        for i in range(layer):\n",
    "            x += 1\n",
    "            yield (x, y)\n",
    "\n",
    "        for i in range(layer):\n",
    "            y += 1\n",
    "            yield (x, y)\n",
    "\n",
    "        layer += 1\n",
    "\n",
    "        for i in range(layer):\n",
    "            x -= 1\n",
    "            yield (x, y)\n",
    "\n",
    "        for i in range(layer):\n",
    "            y -= 1\n",
    "            yield (x, y)\n",
    "\n",
    "        layer += 1\n",
    "\n",
    "w = 10\n",
    "h = 10\n",
    "arr = np.zeros((h, w), dtype=int)\n",
    "it = islice(enumerate(spiral()), 100)\n",
    "\n",
    "\n",
    "for value, (x, y) in it:\n",
    "    arr[(y + h // 2) - 1][(x + w // 2) - 1] = value + 1\n",
    "arr"
   ]
  },
  {
   "cell_type": "code",
   "execution_count": null,
   "id": "8d4c871e-f664-4ea4-9091-3ef41e0148ff",
   "metadata": {},
   "outputs": [],
   "source": []
  },
  {
   "cell_type": "code",
   "execution_count": null,
   "id": "92e27e52-dc6a-4666-a503-54aa382b6501",
   "metadata": {},
   "outputs": [],
   "source": []
  }
 ],
 "metadata": {
  "kernelspec": {
   "display_name": "Python 3 (ipykernel)",
   "language": "python",
   "name": "python3"
  },
  "language_info": {
   "codemirror_mode": {
    "name": "ipython",
    "version": 3
   },
   "file_extension": ".py",
   "mimetype": "text/x-python",
   "name": "python",
   "nbconvert_exporter": "python",
   "pygments_lexer": "ipython3",
   "version": "3.9.2"
  }
 },
 "nbformat": 4,
 "nbformat_minor": 5
}
