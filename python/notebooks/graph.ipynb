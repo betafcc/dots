{
 "cells": [
  {
   "cell_type": "code",
   "execution_count": 1,
   "id": "5d4fca96-8fd2-4b1e-bae0-9ee325cfd636",
   "metadata": {},
   "outputs": [],
   "source": [
    "%run ./rc.ipynb"
   ]
  },
  {
   "cell_type": "code",
   "execution_count": 2,
   "id": "1e75883b-6d55-46d0-a32b-2dc61b0b7903",
   "metadata": {},
   "outputs": [],
   "source": [
    "from __future__ import annotations"
   ]
  },
  {
   "cell_type": "code",
   "execution_count": 3,
   "id": "b21f11d9-dd2b-4a2d-a63f-60f8fb03c402",
   "metadata": {},
   "outputs": [
    {
     "data": {
      "image/svg+xml": [
       "<svg xmlns=\"http://www.w3.org/2000/svg\" xmlns:xlink=\"http://www.w3.org/1999/xlink\" width=\"134pt\" height=\"188pt\" viewBox=\"0.00 0.00 134.00 188.00\">\n",
       "<g id=\"graph0\" class=\"graph\" transform=\"scale(1 1) rotate(0) translate(4 184)\">\n",
       "<polygon fill=\"white\" stroke=\"transparent\" points=\"-4,4 -4,-184 130,-184 130,4 -4,4\"/>\n",
       "<!-- a -->\n",
       "<g id=\"node1\" class=\"node\">\n",
       "<title>a</title>\n",
       "<ellipse fill=\"none\" stroke=\"black\" cx=\"54\" cy=\"-162\" rx=\"27\" ry=\"18\"/>\n",
       "<text text-anchor=\"middle\" x=\"54\" y=\"-158.3\" font-family=\"Times,serif\" font-size=\"14.00\">a</text>\n",
       "</g>\n",
       "<!-- b -->\n",
       "<g id=\"node2\" class=\"node\">\n",
       "<title>b</title>\n",
       "<ellipse fill=\"none\" stroke=\"black\" cx=\"82\" cy=\"-90\" rx=\"27\" ry=\"18\"/>\n",
       "<text text-anchor=\"middle\" x=\"82\" y=\"-86.3\" font-family=\"Times,serif\" font-size=\"14.00\">b</text>\n",
       "</g>\n",
       "<!-- a&#45;&#45;b -->\n",
       "<g id=\"edge1\" class=\"edge\">\n",
       "<title>a--b</title>\n",
       "<path fill=\"none\" stroke=\"black\" d=\"M60.64,-144.41C65.1,-133.25 70.96,-118.6 75.41,-107.47\"/>\n",
       "</g>\n",
       "<!-- c -->\n",
       "<g id=\"node3\" class=\"node\">\n",
       "<title>c</title>\n",
       "<ellipse fill=\"none\" stroke=\"black\" cx=\"27\" cy=\"-18\" rx=\"27\" ry=\"18\"/>\n",
       "<text text-anchor=\"middle\" x=\"27\" y=\"-14.3\" font-family=\"Times,serif\" font-size=\"14.00\">c</text>\n",
       "</g>\n",
       "<!-- a&#45;&#45;c -->\n",
       "<g id=\"edge2\" class=\"edge\">\n",
       "<title>a--c</title>\n",
       "<path fill=\"none\" stroke=\"black\" d=\"M50.74,-143.87C45.55,-116.58 35.47,-63.52 30.27,-36.19\"/>\n",
       "</g>\n",
       "<!-- b&#45;&#45;c -->\n",
       "<g id=\"edge3\" class=\"edge\">\n",
       "<title>b--c</title>\n",
       "<path fill=\"none\" stroke=\"black\" d=\"M70.07,-73.81C60.84,-62.07 48.13,-45.89 38.91,-34.16\"/>\n",
       "</g>\n",
       "<!-- d -->\n",
       "<g id=\"node4\" class=\"node\">\n",
       "<title>d</title>\n",
       "<ellipse fill=\"none\" stroke=\"black\" cx=\"99\" cy=\"-18\" rx=\"27\" ry=\"18\"/>\n",
       "<text text-anchor=\"middle\" x=\"99\" y=\"-14.3\" font-family=\"Times,serif\" font-size=\"14.00\">d</text>\n",
       "</g>\n",
       "<!-- b&#45;&#45;d -->\n",
       "<g id=\"edge4\" class=\"edge\">\n",
       "<title>b--d</title>\n",
       "<path fill=\"none\" stroke=\"black\" d=\"M86.12,-72.05C88.75,-61.21 92.16,-47.18 94.8,-36.28\"/>\n",
       "</g>\n",
       "</g>\n",
       "</svg>"
      ],
      "text/plain": [
       "<IPython.core.display.SVG object>"
      ]
     },
     "metadata": {},
     "output_type": "display_data"
    }
   ],
   "source": [
    "%%dot\n",
    "graph {\n",
    "    a -- { b c }\n",
    "    b -- c\n",
    "    b -- d\n",
    "}"
   ]
  },
  {
   "cell_type": "code",
   "execution_count": null,
   "id": "db9dde19-0580-4316-847e-edf584e835f8",
   "metadata": {},
   "outputs": [],
   "source": []
  },
  {
   "cell_type": "code",
   "execution_count": null,
   "id": "e8ce08db-287d-4cdc-a4b5-79a6c81be339",
   "metadata": {},
   "outputs": [],
   "source": []
  },
  {
   "cell_type": "code",
   "execution_count": 4,
   "id": "1b8eb403-fd6c-492d-b569-c93fa447960e",
   "metadata": {},
   "outputs": [],
   "source": [
    "from dataclasses import field\n",
    "\n",
    "@dataclass(eq=True, frozen=True)\n",
    "class Graph:\n",
    "    graph: dict[str, set[str]]\n",
    "\n",
    "    def __getattr__(self, key):\n",
    "        # ignore ipython inspection\n",
    "        if key.startswith('_'):\n",
    "            return None\n",
    "\n",
    "        if key not in self.graph:\n",
    "            self.graph[key] = set()\n",
    "\n",
    "        return Node(key, self)\n",
    "\n",
    "    def get(self, key, default=None):\n",
    "        if key in self.graph:\n",
    "            return Node(key, self)\n",
    "        else:\n",
    "            return default\n",
    "\n",
    "    def connect(self, ida, idb):\n",
    "        self.graph[ida].add(idb)\n",
    "        self.graph[idb].add(ida)\n",
    "        return self\n",
    "\n",
    "    def __iter__(self):\n",
    "        yield from map(self.get, self.graph.keys())\n",
    "\n",
    "    def __len__(self):\n",
    "        return len(self.graph)\n",
    "\n",
    "    def __repr__(self):\n",
    "        lines = ['strict graph {']\n",
    "        for id, adjs in self.graph.items():\n",
    "            lines.append(f'  {id} -- ' + '{ ' + \" \".join(adjs) + ' }')\n",
    "        lines.append('}')\n",
    "        return '\\n'.join(lines)\n",
    "\n",
    "    def _repr_svg_(self):\n",
    "        def run_graphviz(s, layout_engine='dot'):\n",
    "            import codecs\n",
    "            from subprocess import Popen, PIPE\n",
    "\n",
    "            \"\"\"Execute dot with a layout and return a raw SVG image, or None.\"\"\"\n",
    "            cmd = ['dot', '-Tsvg', '-K', layout_engine]\n",
    "\n",
    "            dot = Popen(cmd, stdin=PIPE, stdout=PIPE, stderr=PIPE)\n",
    "            stdoutdata, stderrdata = dot.communicate(s.encode('utf-8'))\n",
    "            status = dot.wait()\n",
    "            if status == 0:\n",
    "                return stdoutdata\n",
    "            else:\n",
    "                fstr = \"dot returned {}\\n[==== stderr ====]\\n{}\"\n",
    "                error(fstr.format(status, stderrdata.decode('utf-8')))\n",
    "                return None\n",
    "        return run_graphviz(repr(self)).decode('utf-8')\n",
    "\n",
    "\n",
    "\n",
    "@dataclass(eq=True, frozen=True)\n",
    "class Node:\n",
    "    id: str\n",
    "    graph: Graph\n",
    "\n",
    "    def __sub__(self, other):\n",
    "        return self.graph.connect(self.id, other.id)\n",
    "\n",
    "    def adjacent(self):\n",
    "        return [self.graph.get(id) for id in self.graph.graph[self.id]]\n",
    "\n",
    "    def __repr__(self):\n",
    "        return f'( {self.id} )'"
   ]
  },
  {
   "cell_type": "code",
   "execution_count": 5,
   "id": "81e68a9d-6374-4192-97d4-98ea0186c9ba",
   "metadata": {},
   "outputs": [],
   "source": [
    "def dfs(node, target, seen):\n",
    "    print(node)\n",
    "    if node.id == target.id:\n",
    "        return f'{target.id}'\n",
    "    else:\n",
    "        seen.update(node.id)\n",
    "\n",
    "        for adj in node.adjacent():\n",
    "            if adj.id not in seen:\n",
    "                if found := dfs(adj, target, seen):\n",
    "                    return f'{node.id} -> {found}'\n",
    "        return ''"
   ]
  },
  {
   "cell_type": "code",
   "execution_count": 6,
   "id": "9e1fb46f-06f2-40cd-ab22-ed3f47f1bbf4",
   "metadata": {},
   "outputs": [
    {
     "data": {
      "image/svg+xml": [
       "<?xml version=\"1.0\" encoding=\"UTF-8\" standalone=\"no\"?>\n",
       "<!DOCTYPE svg PUBLIC \"-//W3C//DTD SVG 1.1//EN\"\n",
       " \"http://www.w3.org/Graphics/SVG/1.1/DTD/svg11.dtd\">\n",
       "<!-- Generated by graphviz version 2.49.3 (20211023.0002)\n",
       " -->\n",
       "<!-- Pages: 1 -->\n",
       "<svg width=\"134pt\" height=\"332pt\"\n",
       " viewBox=\"0.00 0.00 134.00 332.00\" xmlns=\"http://www.w3.org/2000/svg\" xmlns:xlink=\"http://www.w3.org/1999/xlink\">\n",
       "<g id=\"graph0\" class=\"graph\" transform=\"scale(1 1) rotate(0) translate(4 328)\">\n",
       "<polygon fill=\"white\" stroke=\"transparent\" points=\"-4,4 -4,-328 130,-328 130,4 -4,4\"/>\n",
       "<!-- a -->\n",
       "<g id=\"node1\" class=\"node\">\n",
       "<title>a</title>\n",
       "<ellipse fill=\"none\" stroke=\"black\" cx=\"54\" cy=\"-306\" rx=\"27\" ry=\"18\"/>\n",
       "<text text-anchor=\"middle\" x=\"54\" y=\"-302.3\" font-family=\"Times,serif\" font-size=\"14.00\">a</text>\n",
       "</g>\n",
       "<!-- b -->\n",
       "<g id=\"node2\" class=\"node\">\n",
       "<title>b</title>\n",
       "<ellipse fill=\"none\" stroke=\"black\" cx=\"82\" cy=\"-234\" rx=\"27\" ry=\"18\"/>\n",
       "<text text-anchor=\"middle\" x=\"82\" y=\"-230.3\" font-family=\"Times,serif\" font-size=\"14.00\">b</text>\n",
       "</g>\n",
       "<!-- a&#45;&#45;b -->\n",
       "<g id=\"edge1\" class=\"edge\">\n",
       "<title>a&#45;&#45;b</title>\n",
       "<path fill=\"none\" stroke=\"black\" d=\"M60.64,-288.41C65.1,-277.25 70.96,-262.6 75.41,-251.47\"/>\n",
       "</g>\n",
       "<!-- c -->\n",
       "<g id=\"node3\" class=\"node\">\n",
       "<title>c</title>\n",
       "<ellipse fill=\"none\" stroke=\"black\" cx=\"27\" cy=\"-162\" rx=\"27\" ry=\"18\"/>\n",
       "<text text-anchor=\"middle\" x=\"27\" y=\"-158.3\" font-family=\"Times,serif\" font-size=\"14.00\">c</text>\n",
       "</g>\n",
       "<!-- a&#45;&#45;c -->\n",
       "<g id=\"edge2\" class=\"edge\">\n",
       "<title>a&#45;&#45;c</title>\n",
       "<path fill=\"none\" stroke=\"black\" d=\"M50.74,-287.87C45.55,-260.58 35.47,-207.52 30.27,-180.19\"/>\n",
       "</g>\n",
       "<!-- b&#45;&#45;c -->\n",
       "<g id=\"edge3\" class=\"edge\">\n",
       "<title>b&#45;&#45;c</title>\n",
       "<path fill=\"none\" stroke=\"black\" d=\"M70.07,-217.81C60.84,-206.07 48.13,-189.89 38.91,-178.16\"/>\n",
       "</g>\n",
       "<!-- d -->\n",
       "<g id=\"node4\" class=\"node\">\n",
       "<title>d</title>\n",
       "<ellipse fill=\"none\" stroke=\"black\" cx=\"99\" cy=\"-162\" rx=\"27\" ry=\"18\"/>\n",
       "<text text-anchor=\"middle\" x=\"99\" y=\"-158.3\" font-family=\"Times,serif\" font-size=\"14.00\">d</text>\n",
       "</g>\n",
       "<!-- b&#45;&#45;d -->\n",
       "<g id=\"edge4\" class=\"edge\">\n",
       "<title>b&#45;&#45;d</title>\n",
       "<path fill=\"none\" stroke=\"black\" d=\"M86.12,-216.05C88.75,-205.21 92.16,-191.18 94.8,-180.28\"/>\n",
       "</g>\n",
       "<!-- k -->\n",
       "<g id=\"node5\" class=\"node\">\n",
       "<title>k</title>\n",
       "<ellipse fill=\"none\" stroke=\"black\" cx=\"27\" cy=\"-90\" rx=\"27\" ry=\"18\"/>\n",
       "<text text-anchor=\"middle\" x=\"27\" y=\"-86.3\" font-family=\"Times,serif\" font-size=\"14.00\">k</text>\n",
       "</g>\n",
       "<!-- c&#45;&#45;k -->\n",
       "<g id=\"edge5\" class=\"edge\">\n",
       "<title>c&#45;&#45;k</title>\n",
       "<path fill=\"none\" stroke=\"black\" d=\"M27,-143.7C27,-132.85 27,-118.92 27,-108.1\"/>\n",
       "</g>\n",
       "<!-- e -->\n",
       "<g id=\"node7\" class=\"node\">\n",
       "<title>e</title>\n",
       "<ellipse fill=\"none\" stroke=\"black\" cx=\"99\" cy=\"-90\" rx=\"27\" ry=\"18\"/>\n",
       "<text text-anchor=\"middle\" x=\"99\" y=\"-86.3\" font-family=\"Times,serif\" font-size=\"14.00\">e</text>\n",
       "</g>\n",
       "<!-- d&#45;&#45;e -->\n",
       "<g id=\"edge7\" class=\"edge\">\n",
       "<title>d&#45;&#45;e</title>\n",
       "<path fill=\"none\" stroke=\"black\" d=\"M99,-143.7C99,-132.85 99,-118.92 99,-108.1\"/>\n",
       "</g>\n",
       "<!-- o -->\n",
       "<g id=\"node6\" class=\"node\">\n",
       "<title>o</title>\n",
       "<ellipse fill=\"none\" stroke=\"black\" cx=\"27\" cy=\"-18\" rx=\"27\" ry=\"18\"/>\n",
       "<text text-anchor=\"middle\" x=\"27\" y=\"-14.3\" font-family=\"Times,serif\" font-size=\"14.00\">o</text>\n",
       "</g>\n",
       "<!-- k&#45;&#45;o -->\n",
       "<g id=\"edge6\" class=\"edge\">\n",
       "<title>k&#45;&#45;o</title>\n",
       "<path fill=\"none\" stroke=\"black\" d=\"M27,-71.7C27,-60.85 27,-46.92 27,-36.1\"/>\n",
       "</g>\n",
       "</g>\n",
       "</svg>\n"
      ],
      "text/plain": [
       "strict graph {\n",
       "  a -- { b c }\n",
       "  b -- { d c a }\n",
       "  c -- { b k a }\n",
       "  k -- { c o }\n",
       "  o -- { k }\n",
       "  d -- { b e }\n",
       "  e -- { d }\n",
       "}"
      ]
     },
     "execution_count": 6,
     "metadata": {},
     "output_type": "execute_result"
    }
   ],
   "source": [
    "g = Graph({})\n",
    "g.a - g.b\n",
    "g.a - g.c\n",
    "g.b - g.c\n",
    "g.c - g.k\n",
    "g.k - g.o\n",
    "g.b - g.d\n",
    "g.d - g.e"
   ]
  },
  {
   "cell_type": "code",
   "execution_count": 7,
   "id": "9c516336-4941-4b1b-893b-37f9614bbb3b",
   "metadata": {},
   "outputs": [
    {
     "data": {
      "text/plain": [
       "[1, 2, 3]"
      ]
     },
     "execution_count": 7,
     "metadata": {},
     "output_type": "execute_result"
    }
   ],
   "source": [
    "arr = [1, 2, 3]\n",
    "arr"
   ]
  },
  {
   "cell_type": "code",
   "execution_count": null,
   "id": "3933fef6-b569-4450-abe4-1ef10c3a14ec",
   "metadata": {},
   "outputs": [],
   "source": []
  },
  {
   "cell_type": "code",
   "execution_count": 30,
   "id": "bcb5a600-9f37-4ca2-989b-4aeff5833792",
   "metadata": {},
   "outputs": [],
   "source": [
    "def bfs(initial, target):\n",
    "    seen = { initial.id: initial.id }\n",
    "    queue = [initial]\n",
    "\n",
    "    while len(queue):\n",
    "        parent = queue.pop(0)\n",
    "\n",
    "        for child in parent.adjacent():\n",
    "            if child.id == target.id:\n",
    "                acc = f'{target.id}'\n",
    "                i = parent.id\n",
    "                while i != initial.id:\n",
    "                    acc = i + ' -> ' + acc\n",
    "                    i = seen[i]\n",
    "                return initial.id + ' -> ' + acc\n",
    "\n",
    "            if not seen.get(child.id, None):\n",
    "                seen[child.id] = parent.id\n",
    "                queue.append(child)"
   ]
  },
  {
   "cell_type": "code",
   "execution_count": null,
   "id": "d1255e38-56c4-4b82-9d15-c6e7a814f2ea",
   "metadata": {},
   "outputs": [],
   "source": []
  },
  {
   "cell_type": "code",
   "execution_count": null,
   "id": "02c9cd3e-65b3-4d55-bb3d-20845c2d0512",
   "metadata": {},
   "outputs": [],
   "source": []
  },
  {
   "cell_type": "code",
   "execution_count": 31,
   "id": "d111045c-db29-4ad6-9993-b9119f90a971",
   "metadata": {},
   "outputs": [
    {
     "name": "stdout",
     "output_type": "stream",
     "text": [
      "( a )\n",
      "( b )\n",
      "( d )\n",
      "( e )\n",
      "( c )\n",
      "( k )\n",
      "( o )\n"
     ]
    },
    {
     "data": {
      "text/plain": [
       "'a -> b -> c -> k -> o'"
      ]
     },
     "execution_count": 31,
     "metadata": {},
     "output_type": "execute_result"
    }
   ],
   "source": [
    "dfs(g.a, g.o, set())"
   ]
  },
  {
   "cell_type": "code",
   "execution_count": 32,
   "id": "50ffa656-dcbf-44b1-bd4e-988a0fc52977",
   "metadata": {},
   "outputs": [
    {
     "data": {
      "text/plain": [
       "'a -> c -> k -> o'"
      ]
     },
     "execution_count": 32,
     "metadata": {},
     "output_type": "execute_result"
    }
   ],
   "source": [
    "bfs(g.a, g.o)"
   ]
  },
  {
   "cell_type": "code",
   "execution_count": null,
   "id": "3b707646-8612-4741-bd33-5fac6329ed16",
   "metadata": {},
   "outputs": [],
   "source": []
  },
  {
   "cell_type": "code",
   "execution_count": 25,
   "id": "d50d8777-24b7-47a9-a9bc-69b078b582cb",
   "metadata": {},
   "outputs": [
    {
     "data": {
      "text/plain": [
       "[( a ), ( d ), ( c )]"
      ]
     },
     "execution_count": 25,
     "metadata": {},
     "output_type": "execute_result"
    }
   ],
   "source": [
    "g.b.adjacent()"
   ]
  },
  {
   "cell_type": "code",
   "execution_count": 37,
   "id": "8efa8889-e0ca-45df-bd46-83f3ff87ad35",
   "metadata": {},
   "outputs": [],
   "source": [
    "from collections import OrderedDict"
   ]
  },
  {
   "cell_type": "code",
   "execution_count": 41,
   "id": "f54b5e57-0853-407d-ab02-a73c24f724b0",
   "metadata": {},
   "outputs": [
    {
     "name": "stdout",
     "output_type": "stream",
     "text": [
      "ieee std synopsys\n",
      "dware gtech ramlib std_cell_lib\n",
      "dw01 dw02 dw05 dw06 dw07\n",
      "des_system_lib dw03 dw04\n"
     ]
    }
   ],
   "source": [
    "try:\n",
    "    from functools import reduce\n",
    "except:\n",
    "    pass\n",
    " \n",
    "data = OrderedDict({\n",
    "    'des_system_lib':   set('std synopsys std_cell_lib des_system_lib dw02 dw01 ramlib ieee'.split()),\n",
    "    'dw01':             set('ieee dw01 dware gtech'.split()),\n",
    "    'dw02':             set('ieee dw02 dware'.split()),\n",
    "    'dw03':             set('std synopsys dware dw03 dw02 dw01 ieee gtech'.split()),\n",
    "    'dw04':             set('dw04 ieee dw01 dware gtech'.split()),\n",
    "    'dw05':             set('dw05 ieee dware'.split()),\n",
    "    'dw06':             set('dw06 ieee dware'.split()),\n",
    "    'dw07':             set('ieee dware'.split()),\n",
    "    'dware':            set('ieee dware'.split()),\n",
    "    'gtech':            set('ieee gtech'.split()),\n",
    "    'ramlib':           set('std ieee'.split()),\n",
    "    'std_cell_lib':     set('ieee std_cell_lib'.split()),\n",
    "    'synopsys':         set(),\n",
    "    })\n",
    " \n",
    "def toposort2(data):\n",
    "    for k, v in data.items():\n",
    "        v.discard(k) # Ignore self dependencies\n",
    "    extra_items_in_deps = reduce(set.union, data.values()) - set(data.keys())\n",
    "    data.update({item:set() for item in extra_items_in_deps})\n",
    "    while True:\n",
    "        ordered = set(item for item,dep in data.items() if not dep)\n",
    "        if not ordered:\n",
    "            break\n",
    "        yield ' '.join(sorted(ordered))\n",
    "        data = {item: (dep - ordered) for item,dep in data.items()\n",
    "                if item not in ordered}\n",
    "    assert not data, \"A cyclic dependency exists amongst %r\" % data\n",
    " \n",
    "print ('\\n'.join( toposort2(data) ))\n"
   ]
  },
  {
   "cell_type": "code",
   "execution_count": 42,
   "id": "9420e9ed-7005-4b7e-b672-560b8e88efba",
   "metadata": {},
   "outputs": [
    {
     "data": {
      "text/plain": [
       "OrderedDict([('des_system_lib',\n",
       "              {'dw01',\n",
       "               'dw02',\n",
       "               'ieee',\n",
       "               'ramlib',\n",
       "               'std',\n",
       "               'std_cell_lib',\n",
       "               'synopsys'}),\n",
       "             ('dw01', {'dware', 'gtech', 'ieee'}),\n",
       "             ('dw02', {'dware', 'ieee'}),\n",
       "             ('dw03',\n",
       "              {'dw01', 'dw02', 'dware', 'gtech', 'ieee', 'std', 'synopsys'}),\n",
       "             ('dw04', {'dw01', 'dware', 'gtech', 'ieee'}),\n",
       "             ('dw05', {'dware', 'ieee'}),\n",
       "             ('dw06', {'dware', 'ieee'}),\n",
       "             ('dw07', {'dware', 'ieee'}),\n",
       "             ('dware', {'ieee'}),\n",
       "             ('gtech', {'ieee'}),\n",
       "             ('ramlib', {'ieee', 'std'}),\n",
       "             ('std_cell_lib', {'ieee'}),\n",
       "             ('synopsys', set()),\n",
       "             ('std', set()),\n",
       "             ('ieee', set())])"
      ]
     },
     "execution_count": 42,
     "metadata": {},
     "output_type": "execute_result"
    }
   ],
   "source": [
    "data"
   ]
  },
  {
   "cell_type": "code",
   "execution_count": null,
   "id": "aaf36b50-c127-4750-9ee7-810d0ff9c08a",
   "metadata": {},
   "outputs": [],
   "source": []
  },
  {
   "cell_type": "code",
   "execution_count": null,
   "id": "fd8616e3-24c4-45d6-a91f-e350629e5fa0",
   "metadata": {},
   "outputs": [],
   "source": [
    "def topo(g):\n",
    "    seen = set()\n",
    "    acc = [0] * len(g)\n",
    "    i = len(g) - 1\n",
    "    for node in g:\n",
    "        if node not in seen:\n",
    "            i = dfs(node, i, seen, acc, g)\n",
    "    return acc\n",
    "\n",
    "def dfs(node, i, seen, acc, g):\n",
    "    for child "
   ]
  },
  {
   "cell_type": "code",
   "execution_count": null,
   "id": "e1c5eb9f-e365-4508-8bd8-707f6eece665",
   "metadata": {},
   "outputs": [],
   "source": []
  },
  {
   "cell_type": "code",
   "execution_count": null,
   "id": "ab969f59-6c5a-4166-bd1a-70cddae4ae56",
   "metadata": {},
   "outputs": [],
   "source": []
  },
  {
   "cell_type": "code",
   "execution_count": null,
   "id": "797175a9-95e8-4f3e-a87c-39178b7eb0dd",
   "metadata": {},
   "outputs": [],
   "source": []
  },
  {
   "cell_type": "code",
   "execution_count": null,
   "id": "00d3ceab-c264-4643-9b60-223a03297c8c",
   "metadata": {},
   "outputs": [],
   "source": []
  },
  {
   "cell_type": "code",
   "execution_count": null,
   "id": "9e22d301-94b5-4951-8739-3523a877c844",
   "metadata": {},
   "outputs": [],
   "source": []
  },
  {
   "cell_type": "code",
   "execution_count": null,
   "id": "a84368e2-4f78-475e-b2aa-7ce6146ed612",
   "metadata": {},
   "outputs": [],
   "source": []
  },
  {
   "cell_type": "code",
   "execution_count": null,
   "id": "35bdece0-8ae3-49ff-b37a-00c1998bacf7",
   "metadata": {},
   "outputs": [],
   "source": []
  },
  {
   "cell_type": "code",
   "execution_count": null,
   "id": "92f33839-1e18-44f1-a355-2c8d9678b62f",
   "metadata": {},
   "outputs": [],
   "source": []
  },
  {
   "cell_type": "code",
   "execution_count": null,
   "id": "92d0819c-2cc3-48d9-afb8-ea6f25b89a4d",
   "metadata": {},
   "outputs": [],
   "source": []
  },
  {
   "cell_type": "code",
   "execution_count": null,
   "id": "f264981f-9f8d-47e6-839e-264e7c7b550e",
   "metadata": {},
   "outputs": [],
   "source": []
  },
  {
   "cell_type": "code",
   "execution_count": null,
   "id": "c47f5df0-403c-4f22-af0c-c6e91b2aac48",
   "metadata": {},
   "outputs": [],
   "source": []
  }
 ],
 "metadata": {
  "kernelspec": {
   "display_name": "Python 3 (ipykernel)",
   "language": "python",
   "name": "python3"
  },
  "language_info": {
   "codemirror_mode": {
    "name": "ipython",
    "version": 3
   },
   "file_extension": ".py",
   "mimetype": "text/x-python",
   "name": "python",
   "nbconvert_exporter": "python",
   "pygments_lexer": "ipython3",
   "version": "3.10.0"
  }
 },
 "nbformat": 4,
 "nbformat_minor": 5
}
