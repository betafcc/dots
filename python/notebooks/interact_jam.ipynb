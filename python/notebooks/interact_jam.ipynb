{
 "cells": [
  {
   "cell_type": "code",
   "execution_count": 1,
   "id": "3e8179e9-ce5b-45bb-95c9-b9f8ca53c728",
   "metadata": {},
   "outputs": [],
   "source": [
    "%run rc.ipynb"
   ]
  },
  {
   "cell_type": "markdown",
   "id": "f75b3d27-a53b-4065-b484-c9d0d5dd754d",
   "metadata": {},
   "source": [
    "```\n",
    "\n",
    "0\n",
    "1\n",
    "1\n",
    "2\n",
    "3\n",
    "5\n",
    "8\n",
    "13\n",
    "21\n",
    "34\n",
    "55\n",
    "\n",
    "(2a + 1) + (2b + 1) = even + even + 2\n",
    "even + odd = odd\n",
    "odd + odd = even\n",
    "\n",
    "\n",
    "even\n",
    "even\n",
    "even\n",
    "odd\n",
    "\n",
    "e o o o e o o o e o o o e o o o e\n",
    "0 1 1 1 2 3 5\n",
    "\n",
    "i p p p i i p p p i i p p p i i\n",
    "\n",
    "\n",
    "\n",
    "even ± even = even\n",
    "even ± odd = odd\n",
    "odd ± odd = even\n",
    "\n",
    "even × even = even\n",
    "even × odd = even\n",
    "odd × odd = odd\n",
    "```"
   ]
  },
  {
   "cell_type": "code",
   "execution_count": null,
   "id": "829111be-3b66-4133-a7d8-aaa6301ce013",
   "metadata": {},
   "outputs": [],
   "source": [
    "'''\n",
    "\n",
    "i \n",
    "p\n",
    "p\n",
    "p\n",
    "i\n",
    "i (p + i) | (i x i)\n",
    "p (p + p) | (i + i) | (p x p) | (p x i)\n",
    "p\n",
    "p\n",
    "i\n",
    "i\n",
    "p\n",
    "p\n",
    "p\n",
    "i\n",
    "i\n",
    "\n",
    "\n",
    "\n",
    "p = p + p\n",
    "i = p + i\n",
    "p = i + i\n",
    "\n",
    "p = p x p\n",
    "p = p x i\n",
    "i = i x i\n",
    "\n",
    "p = p + p + p\n",
    "i = p + p + i\n",
    "i = p + i + p\n",
    "p = P + i + i\n",
    "i = i + p + p\n",
    "p = i + p + i\n",
    "p = i + i + p\n",
    "i = i + i + i\n",
    "\n",
    "\n",
    "\n",
    ". .       .\n",
    "i p p p p i\n",
    "p p p p i p\n",
    "p p p i p p\n",
    "p p i p p p\n",
    "p i p p p p\n",
    "i p p p p i\n",
    "p p p p i p\n",
    "p p p i p p\n",
    "p p i p p p\n",
    "p i p p p p\n",
    "\n",
    "\n",
    "1 2 2 2 2 3\n",
    "f 0 = 1\n",
    "f 1 = 2\n",
    "f 2 = 2\n",
    "f 3 = 2\n",
    "f 4 = 2\n",
    "f 5 = 3\n",
    "f x = x + f (x - 5) + f (x - 6)\n",
    "'''"
   ]
  },
  {
   "cell_type": "code",
   "execution_count": null,
   "id": "b08631cb-61ef-4daf-9eec-cbdc6f40a8b4",
   "metadata": {},
   "outputs": [],
   "source": [
    "def ip4i(x):\n",
    "    "
   ]
  },
  {
   "cell_type": "code",
   "execution_count": null,
   "id": "815540c5-020a-48f1-b241-022a13f3d557",
   "metadata": {},
   "outputs": [],
   "source": []
  },
  {
   "cell_type": "code",
   "execution_count": null,
   "id": "2e1adbae-cd93-481a-ae89-55b5f97c3ace",
   "metadata": {},
   "outputs": [],
   "source": []
  },
  {
   "cell_type": "code",
   "execution_count": null,
   "id": "76b582d2-6a25-4e6d-ae00-4611a99237fb",
   "metadata": {},
   "outputs": [],
   "source": []
  },
  {
   "cell_type": "code",
   "execution_count": null,
   "id": "cf7ef0ac-3484-492e-8182-a4a2d1c73bc1",
   "metadata": {},
   "outputs": [],
   "source": []
  },
  {
   "cell_type": "code",
   "execution_count": null,
   "id": "95639f14-d825-4c62-ad90-e52fc3617e1b",
   "metadata": {},
   "outputs": [],
   "source": []
  },
  {
   "cell_type": "code",
   "execution_count": null,
   "id": "db8547bb-c128-49ca-ba29-2615be6ee860",
   "metadata": {},
   "outputs": [],
   "source": []
  },
  {
   "cell_type": "code",
   "execution_count": null,
   "id": "0a642493-0a3b-44d4-a952-3ba79a97e937",
   "metadata": {},
   "outputs": [],
   "source": []
  },
  {
   "cell_type": "code",
   "execution_count": null,
   "id": "c1a29570-918b-44f4-99a0-3bc07ca77f82",
   "metadata": {},
   "outputs": [],
   "source": []
  },
  {
   "cell_type": "code",
   "execution_count": null,
   "id": "542a3046-33ab-4022-bd58-14ca3f1d9adf",
   "metadata": {},
   "outputs": [],
   "source": []
  },
  {
   "cell_type": "code",
   "execution_count": null,
   "id": "609b2768-0e88-46fc-b3d4-bddc791ee95b",
   "metadata": {},
   "outputs": [],
   "source": []
  },
  {
   "cell_type": "code",
   "execution_count": null,
   "id": "e8131861-6765-44f5-81ac-7afee8393cde",
   "metadata": {},
   "outputs": [],
   "source": []
  },
  {
   "cell_type": "code",
   "execution_count": null,
   "id": "e3392a75-3a5b-4135-90b9-2d991f995665",
   "metadata": {},
   "outputs": [],
   "source": []
  },
  {
   "cell_type": "code",
   "execution_count": null,
   "id": "2ebc0434-d950-4875-a6ca-3e79838dbdb2",
   "metadata": {},
   "outputs": [],
   "source": []
  },
  {
   "cell_type": "code",
   "execution_count": null,
   "id": "0cda8a99-f677-4685-b06f-2f3941f0cc6c",
   "metadata": {},
   "outputs": [],
   "source": []
  },
  {
   "cell_type": "code",
   "execution_count": null,
   "id": "ee90a340-a403-4555-bf1e-029559f91859",
   "metadata": {},
   "outputs": [],
   "source": []
  },
  {
   "cell_type": "code",
   "execution_count": null,
   "id": "1cd50828-51cc-4e31-977d-484934b767ff",
   "metadata": {},
   "outputs": [],
   "source": []
  },
  {
   "cell_type": "code",
   "execution_count": null,
   "id": "eef23c2c-5ad1-44ea-a30e-505e6a14c8f3",
   "metadata": {},
   "outputs": [],
   "source": []
  },
  {
   "cell_type": "code",
   "execution_count": null,
   "id": "c143d3b3-436d-4873-9870-d0e6f67a8b05",
   "metadata": {},
   "outputs": [],
   "source": []
  },
  {
   "cell_type": "code",
   "execution_count": null,
   "id": "73f65bd1-44be-4327-8004-f0abc9cecdff",
   "metadata": {},
   "outputs": [],
   "source": []
  },
  {
   "cell_type": "code",
   "execution_count": null,
   "id": "bb0d6c49-060f-4d04-99f3-49aa9c88c0ed",
   "metadata": {},
   "outputs": [],
   "source": []
  },
  {
   "cell_type": "code",
   "execution_count": null,
   "id": "ad2c7a38-2a8f-43f5-899a-40b0d4b7a2ff",
   "metadata": {},
   "outputs": [],
   "source": []
  },
  {
   "cell_type": "code",
   "execution_count": null,
   "id": "ab3be571-a519-4aaa-901e-cda628a264f7",
   "metadata": {},
   "outputs": [],
   "source": []
  },
  {
   "cell_type": "code",
   "execution_count": null,
   "id": "7537d528-7a61-4db8-8ac3-954fd1f5e960",
   "metadata": {},
   "outputs": [],
   "source": []
  },
  {
   "cell_type": "code",
   "execution_count": null,
   "id": "c542aad7-7bb0-4e6b-a957-0f09eb133987",
   "metadata": {},
   "outputs": [],
   "source": []
  },
  {
   "cell_type": "code",
   "execution_count": null,
   "id": "a6eb2b82-385a-40df-80f9-5603952de11e",
   "metadata": {},
   "outputs": [],
   "source": []
  },
  {
   "cell_type": "code",
   "execution_count": null,
   "id": "aa5599d5-b634-4573-b9f2-21b6c76a6063",
   "metadata": {},
   "outputs": [],
   "source": []
  },
  {
   "cell_type": "code",
   "execution_count": null,
   "id": "8cb26241-f176-438a-8264-9b764b071a0b",
   "metadata": {},
   "outputs": [],
   "source": []
  }
 ],
 "metadata": {
  "kernelspec": {
   "display_name": "Python 3 (ipykernel)",
   "language": "python",
   "name": "python3"
  },
  "language_info": {
   "codemirror_mode": {
    "name": "ipython",
    "version": 3
   },
   "file_extension": ".py",
   "mimetype": "text/x-python",
   "name": "python",
   "nbconvert_exporter": "python",
   "pygments_lexer": "ipython3",
   "version": "3.10.0"
  }
 },
 "nbformat": 4,
 "nbformat_minor": 5
}
