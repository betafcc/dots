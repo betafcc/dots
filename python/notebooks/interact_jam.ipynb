{
 "cells": [
  {
   "cell_type": "code",
   "execution_count": 1,
   "id": "3e8179e9-ce5b-45bb-95c9-b9f8ca53c728",
   "metadata": {},
   "outputs": [],
   "source": [
    "%run rc.ipynb"
   ]
  },
  {
   "cell_type": "code",
   "execution_count": 2,
   "id": "d2cf4107-7916-4470-b359-905a6b46e753",
   "metadata": {},
   "outputs": [],
   "source": [
    "plt.rcParams['figure.figsize'] = (10, 10)"
   ]
  },
  {
   "cell_type": "code",
   "execution_count": 3,
   "id": "776d4998-c836-4186-9882-bab96827e2a9",
   "metadata": {},
   "outputs": [
    {
     "data": {
      "text/latex": [
       "$\\displaystyle \\left[\\begin{matrix}x & y\\end{matrix}\\right]$"
      ],
      "text/plain": [
       "Matrix([[x, y]])"
      ]
     },
     "execution_count": 3,
     "metadata": {},
     "output_type": "execute_result"
    }
   ],
   "source": [
    "%sp x y"
   ]
  },
  {
   "cell_type": "code",
   "execution_count": null,
   "id": "30398a1b-fffe-4def-9abd-dca5adfdb341",
   "metadata": {},
   "outputs": [],
   "source": [
    "import ipywidgets as _ipy"
   ]
  },
  {
   "cell_type": "code",
   "execution_count": 4,
   "id": "1299342c-1b9f-405b-9c4d-4e73c10fe363",
   "metadata": {},
   "outputs": [
    {
     "data": {
      "application/vnd.jupyter.widget-view+json": {
       "model_id": "ad2d7afba69e4b96a48a9c2e7c532990",
       "version_major": 2,
       "version_minor": 0
      },
      "text/plain": [
       "interactive(children=(IntSlider(value=0, description='h', max=10, min=-10), IntSlider(value=0, description='k'…"
      ]
     },
     "metadata": {},
     "output_type": "display_data"
    }
   ],
   "source": [
    "@interact\n",
    "def g(h=(-10, 10), k=(-10, 10), a=(-10, 10), b=(-10, 10)):\n",
    "    display(sp.Eq(\n",
    "        (x - h) ** 2 / (a or 0.1) ** 2 +\n",
    "        (y - k) ** 2 / (b or 0.1) ** 2,\n",
    "        1\n",
    "    ))"
   ]
  },
  {
   "cell_type": "code",
   "execution_count": 7,
   "id": "43045143-e044-4886-9702-7ff3794ce2f4",
   "metadata": {},
   "outputs": [],
   "source": [
    "a = {1: 2}\n",
    "a.update({'a': 'a', 'b': 2})"
   ]
  },
  {
   "cell_type": "code",
   "execution_count": null,
   "id": "617042d6-e335-433f-9597-966770ebdf2a",
   "metadata": {},
   "outputs": [],
   "source": [
    "locals"
   ]
  },
  {
   "cell_type": "code",
   "execution_count": null,
   "id": "a6970c01-b057-47ee-8e08-43b962e460a3",
   "metadata": {},
   "outputs": [],
   "source": [
    "dict."
   ]
  },
  {
   "cell_type": "code",
   "execution_count": 3,
   "id": "127e6d59-0648-458d-be9e-e1482febb534",
   "metadata": {},
   "outputs": [
    {
     "data": {
      "application/vnd.jupyter.widget-view+json": {
       "model_id": "36111d90e2dd403faa9386b3b8d6921b",
       "version_major": 2,
       "version_minor": 0
      },
      "text/plain": [
       "interactive(children=(IntSlider(value=5, description='x', max=10, min=1), IntSlider(value=-5, description='y',…"
      ]
     },
     "metadata": {},
     "output_type": "display_data"
    }
   ],
   "source": [
    "%%interact x = (1, 10), y = (-10, 1)\n",
    "a = x * y\n",
    "b = x + y\n",
    "\n",
    "a + b"
   ]
  },
  {
   "cell_type": "code",
   "execution_count": null,
   "id": "47410926-c002-4cd8-bcb4-ccfb6b0099cc",
   "metadata": {},
   "outputs": [],
   "source": []
  },
  {
   "cell_type": "code",
   "execution_count": null,
   "id": "c229f0ff-ff9a-44cb-a77b-780b03349eda",
   "metadata": {},
   "outputs": [],
   "source": []
  },
  {
   "cell_type": "code",
   "execution_count": null,
   "id": "6b7239fd-3197-4628-b3d9-f88999b0e69f",
   "metadata": {},
   "outputs": [],
   "source": []
  },
  {
   "cell_type": "code",
   "execution_count": null,
   "id": "25086dfb-5c90-4df2-a5d9-bc391c270742",
   "metadata": {},
   "outputs": [],
   "source": []
  },
  {
   "cell_type": "code",
   "execution_count": null,
   "id": "85e47911-ae28-4548-be6d-21567de7454d",
   "metadata": {},
   "outputs": [],
   "source": [
    "import ipywidgets"
   ]
  },
  {
   "cell_type": "code",
   "execution_count": 6,
   "id": "b7d3e0bf-216d-490c-93e8-22442b3c06fa",
   "metadata": {},
   "outputs": [
    {
     "data": {
      "text/plain": [
       "<ipywidgets.widgets.interaction._InteractFactory at 0x113b4d7b0>"
      ]
     },
     "execution_count": 6,
     "metadata": {},
     "output_type": "execute_result"
    }
   ],
   "source": [
    "a = __ipy.interact(x=(1, 10), y=(-10, 1))\n",
    "\n",
    "def __interact():\n",
    "    return x + y\n",
    "\n",
    "a"
   ]
  },
  {
   "cell_type": "code",
   "execution_count": 10,
   "id": "2f0499fb-d44d-4362-bbb3-b51ef89e176b",
   "metadata": {},
   "outputs": [
    {
     "data": {
      "text/plain": [
       "\u001b[0;31mSignature:\u001b[0m \u001b[0meval\u001b[0m\u001b[0;34m(\u001b[0m\u001b[0msource\u001b[0m\u001b[0;34m,\u001b[0m \u001b[0mglobals\u001b[0m\u001b[0;34m=\u001b[0m\u001b[0;32mNone\u001b[0m\u001b[0;34m,\u001b[0m \u001b[0mlocals\u001b[0m\u001b[0;34m=\u001b[0m\u001b[0;32mNone\u001b[0m\u001b[0;34m,\u001b[0m \u001b[0;34m/\u001b[0m\u001b[0;34m)\u001b[0m\u001b[0;34m\u001b[0m\u001b[0;34m\u001b[0m\u001b[0m\n",
       "\u001b[0;31mDocstring:\u001b[0m\n",
       "Evaluate the given source in the context of globals and locals.\n",
       "\n",
       "The source may be a string representing a Python expression\n",
       "or a code object as returned by compile().\n",
       "The globals must be a dictionary and locals can be any mapping,\n",
       "defaulting to the current globals and locals.\n",
       "If only globals is given, locals defaults to it.\n",
       "\u001b[0;31mType:\u001b[0m      builtin_function_or_method\n"
      ]
     },
     "metadata": {},
     "output_type": "display_data"
    }
   ],
   "source": [
    "eval?"
   ]
  },
  {
   "cell_type": "code",
   "execution_count": 14,
   "id": "a335a36b-7e6a-4e58-b140-bf00f7054aa5",
   "metadata": {},
   "outputs": [
    {
     "data": {
      "text/plain": [
       "'x, y'"
      ]
     },
     "execution_count": 14,
     "metadata": {},
     "output_type": "execute_result"
    }
   ],
   "source": [
    "', '.join(decorator.kwargs)"
   ]
  },
  {
   "cell_type": "code",
   "execution_count": null,
   "id": "fe8659cb-0c9e-4630-9b68-7837428b7a58",
   "metadata": {},
   "outputs": [],
   "source": []
  },
  {
   "cell_type": "code",
   "execution_count": 11,
   "id": "85c3b2f7-af6d-4237-830f-3d25a3219b5b",
   "metadata": {},
   "outputs": [
    {
     "data": {
      "text/plain": [
       "\u001b[0;31mSignature:\u001b[0m \u001b[0mexec\u001b[0m\u001b[0;34m(\u001b[0m\u001b[0msource\u001b[0m\u001b[0;34m,\u001b[0m \u001b[0mglobals\u001b[0m\u001b[0;34m=\u001b[0m\u001b[0;32mNone\u001b[0m\u001b[0;34m,\u001b[0m \u001b[0mlocals\u001b[0m\u001b[0;34m=\u001b[0m\u001b[0;32mNone\u001b[0m\u001b[0;34m,\u001b[0m \u001b[0;34m/\u001b[0m\u001b[0;34m)\u001b[0m\u001b[0;34m\u001b[0m\u001b[0;34m\u001b[0m\u001b[0m\n",
       "\u001b[0;31mDocstring:\u001b[0m\n",
       "Execute the given source in the context of globals and locals.\n",
       "\n",
       "The source may be a string representing one or more Python statements\n",
       "or a code object as returned by compile().\n",
       "The globals must be a dictionary and locals can be any mapping,\n",
       "defaulting to the current globals and locals.\n",
       "If only globals is given, locals defaults to it.\n",
       "\u001b[0;31mType:\u001b[0m      builtin_function_or_method\n"
      ]
     },
     "metadata": {},
     "output_type": "display_data"
    }
   ],
   "source": [
    "exec?"
   ]
  },
  {
   "cell_type": "code",
   "execution_count": null,
   "id": "4c0f53cd-12f2-4344-a7f7-74c259b7aea8",
   "metadata": {},
   "outputs": [],
   "source": [
    "com"
   ]
  },
  {
   "cell_type": "code",
   "execution_count": 10,
   "id": "f2da43ef-bf25-4852-b62c-383828e8a19d",
   "metadata": {},
   "outputs": [
    {
     "data": {
      "text/plain": [
       "\u001b[0;31mSignature:\u001b[0m \u001b[0mstr\u001b[0m\u001b[0;34m.\u001b[0m\u001b[0mreplace\u001b[0m\u001b[0;34m(\u001b[0m\u001b[0mself\u001b[0m\u001b[0;34m,\u001b[0m \u001b[0mold\u001b[0m\u001b[0;34m,\u001b[0m \u001b[0mnew\u001b[0m\u001b[0;34m,\u001b[0m \u001b[0mcount\u001b[0m\u001b[0;34m=\u001b[0m\u001b[0;34m-\u001b[0m\u001b[0;36m1\u001b[0m\u001b[0;34m,\u001b[0m \u001b[0;34m/\u001b[0m\u001b[0;34m)\u001b[0m\u001b[0;34m\u001b[0m\u001b[0;34m\u001b[0m\u001b[0m\n",
       "\u001b[0;31mDocstring:\u001b[0m\n",
       "Return a copy with all occurrences of substring old replaced by new.\n",
       "\n",
       "  count\n",
       "    Maximum number of occurrences to replace.\n",
       "    -1 (the default value) means replace all occurrences.\n",
       "\n",
       "If the optional argument count is given, only the first count occurrences are\n",
       "replaced.\n",
       "\u001b[0;31mType:\u001b[0m      method_descriptor\n"
      ]
     },
     "metadata": {},
     "output_type": "display_data"
    }
   ],
   "source": [
    "str.replace?"
   ]
  },
  {
   "cell_type": "code",
   "execution_count": null,
   "id": "f9d725a1-e71f-4308-94a9-ca6ea9063f48",
   "metadata": {},
   "outputs": [],
   "source": [
    "'foo = bar, = '.replace('')"
   ]
  },
  {
   "cell_type": "code",
   "execution_count": null,
   "id": "14df9bae-5bfc-4638-ad1c-a3e9bd6523c2",
   "metadata": {},
   "outputs": [],
   "source": []
  },
  {
   "cell_type": "code",
   "execution_count": null,
   "id": "9703743d-aad2-4b4d-8c98-3400ff9f34f4",
   "metadata": {},
   "outputs": [],
   "source": []
  },
  {
   "cell_type": "code",
   "execution_count": null,
   "id": "4e7b5d55-d0e5-485e-b69b-501f061c3067",
   "metadata": {},
   "outputs": [],
   "source": []
  },
  {
   "cell_type": "code",
   "execution_count": null,
   "id": "9ac87c1c-488a-47fd-9ec5-800383523fa6",
   "metadata": {},
   "outputs": [],
   "source": []
  },
  {
   "cell_type": "code",
   "execution_count": null,
   "id": "8cb26241-f176-438a-8264-9b764b071a0b",
   "metadata": {},
   "outputs": [],
   "source": []
  }
 ],
 "metadata": {
  "kernelspec": {
   "display_name": "Python 3 (ipykernel)",
   "language": "python",
   "name": "python3"
  },
  "language_info": {
   "codemirror_mode": {
    "name": "ipython",
    "version": 3
   },
   "file_extension": ".py",
   "mimetype": "text/x-python",
   "name": "python",
   "nbconvert_exporter": "python",
   "pygments_lexer": "ipython3",
   "version": "3.10.0"
  }
 },
 "nbformat": 4,
 "nbformat_minor": 5
}
