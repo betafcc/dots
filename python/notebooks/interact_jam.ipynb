{
 "cells": [
  {
   "cell_type": "code",
   "execution_count": 1,
   "id": "3e8179e9-ce5b-45bb-95c9-b9f8ca53c728",
   "metadata": {},
   "outputs": [],
   "source": [
    "%run rc.ipynb"
   ]
  },
  {
   "cell_type": "code",
   "execution_count": 2,
   "id": "d2cf4107-7916-4470-b359-905a6b46e753",
   "metadata": {},
   "outputs": [],
   "source": [
    "plt.rcParams['figure.figsize'] = (10, 10)"
   ]
  },
  {
   "cell_type": "code",
   "execution_count": 3,
   "id": "776d4998-c836-4186-9882-bab96827e2a9",
   "metadata": {},
   "outputs": [
    {
     "data": {
      "text/latex": [
       "$\\displaystyle \\left[\\begin{matrix}x & y\\end{matrix}\\right]$"
      ],
      "text/plain": [
       "Matrix([[x, y]])"
      ]
     },
     "execution_count": 3,
     "metadata": {},
     "output_type": "execute_result"
    }
   ],
   "source": [
    "%sp x y"
   ]
  },
  {
   "cell_type": "code",
   "execution_count": 4,
   "id": "1299342c-1b9f-405b-9c4d-4e73c10fe363",
   "metadata": {},
   "outputs": [
    {
     "data": {
      "application/vnd.jupyter.widget-view+json": {
       "model_id": "ad2d7afba69e4b96a48a9c2e7c532990",
       "version_major": 2,
       "version_minor": 0
      },
      "text/plain": [
       "interactive(children=(IntSlider(value=0, description='h', max=10, min=-10), IntSlider(value=0, description='k'…"
      ]
     },
     "metadata": {},
     "output_type": "display_data"
    }
   ],
   "source": [
    "@interact\n",
    "def g(h=(-10, 10), k=(-10, 10), a=(-10, 10), b=(-10, 10)):\n",
    "    display(sp.Eq(\n",
    "        (x - h) ** 2 / (a or 0.1) ** 2 +\n",
    "        (y - k) ** 2 / (b or 0.1) ** 2,\n",
    "        1\n",
    "    ))"
   ]
  },
  {
   "cell_type": "code",
   "execution_count": null,
   "id": "127e6d59-0648-458d-be9e-e1482febb534",
   "metadata": {},
   "outputs": [],
   "source": []
  },
  {
   "cell_type": "code",
   "execution_count": null,
   "id": "f9d725a1-e71f-4308-94a9-ca6ea9063f48",
   "metadata": {},
   "outputs": [],
   "source": []
  },
  {
   "cell_type": "code",
   "execution_count": null,
   "id": "14df9bae-5bfc-4638-ad1c-a3e9bd6523c2",
   "metadata": {},
   "outputs": [],
   "source": []
  },
  {
   "cell_type": "code",
   "execution_count": null,
   "id": "9703743d-aad2-4b4d-8c98-3400ff9f34f4",
   "metadata": {},
   "outputs": [],
   "source": []
  },
  {
   "cell_type": "code",
   "execution_count": null,
   "id": "4e7b5d55-d0e5-485e-b69b-501f061c3067",
   "metadata": {},
   "outputs": [],
   "source": []
  },
  {
   "cell_type": "code",
   "execution_count": null,
   "id": "9ac87c1c-488a-47fd-9ec5-800383523fa6",
   "metadata": {},
   "outputs": [],
   "source": []
  },
  {
   "cell_type": "code",
   "execution_count": null,
   "id": "8cb26241-f176-438a-8264-9b764b071a0b",
   "metadata": {},
   "outputs": [],
   "source": []
  }
 ],
 "metadata": {
  "kernelspec": {
   "display_name": "Python 3 (ipykernel)",
   "language": "python",
   "name": "python3"
  },
  "language_info": {
   "codemirror_mode": {
    "name": "ipython",
    "version": 3
   },
   "file_extension": ".py",
   "mimetype": "text/x-python",
   "name": "python",
   "nbconvert_exporter": "python",
   "pygments_lexer": "ipython3",
   "version": "3.10.0"
  }
 },
 "nbformat": 4,
 "nbformat_minor": 5
}
