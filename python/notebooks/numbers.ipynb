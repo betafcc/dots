{
 "cells": [
  {
   "cell_type": "code",
   "execution_count": 1,
   "id": "3e8179e9-ce5b-45bb-95c9-b9f8ca53c728",
   "metadata": {},
   "outputs": [
    {
     "data": {
      "text/html": [
       "\n",
       "            <script\n",
       "                id=\"output-4525732624\"\n",
       "            >pre_run_cell && pre_run_cell('4525732624')</script>\n",
       "        "
      ],
      "text/plain": [
       "<IPython.core.display.HTML object>"
      ]
     },
     "metadata": {},
     "output_type": "display_data"
    },
    {
     "data": {
      "text/html": [
       "\n",
       "            <script>post_run_cell && post_run_cell('4525732624', 'True')</script>\n",
       "        "
      ],
      "text/plain": [
       "<IPython.core.display.HTML object>"
      ]
     },
     "metadata": {},
     "output_type": "display_data"
    }
   ],
   "source": [
    "%run rc.ipynb"
   ]
  },
  {
   "cell_type": "code",
   "execution_count": 2,
   "id": "829111be-3b66-4133-a7d8-aaa6301ce013",
   "metadata": {},
   "outputs": [
    {
     "data": {
      "text/html": [
       "\n",
       "            <script\n",
       "                id=\"output-4525731136\"\n",
       "            >pre_run_cell && pre_run_cell('4525731136')</script>\n",
       "        "
      ],
      "text/plain": [
       "<IPython.core.display.HTML object>"
      ]
     },
     "metadata": {},
     "output_type": "display_data"
    },
    {
     "data": {
      "text/html": [
       "\n",
       "            <script>post_run_cell && post_run_cell('4525731136', 'True')</script>\n",
       "        "
      ],
      "text/plain": [
       "<IPython.core.display.HTML object>"
      ]
     },
     "metadata": {},
     "output_type": "display_data"
    }
   ],
   "source": [
    "'''\n",
    "xor = (% 2) . (+)\n",
    "e + e -> e\n",
    "e + o -> o\n",
    "o + e -> o\n",
    "o + o -> e\n",
    "\n",
    "and = (% 2) . (x)\n",
    "e x e = e\n",
    "e x o = e\n",
    "o x e = e\n",
    "o x o = o\n",
    "\n",
    "\n",
    ". .       .\n",
    "i p p p p i\n",
    "p p p p i p\n",
    "p p p i p p\n",
    "p p i p p p\n",
    "p i p p p p\n",
    "i p p p p i\n",
    "p p p p i p\n",
    "p p p i p p\n",
    "p p i p p p\n",
    "p i p p p p\n",
    "\n",
    "1 2 2 2 2 3\n",
    "f 0 = 1\n",
    "f 1 = 2\n",
    "f 2 = 2\n",
    "f 3 = 2\n",
    "f 4 = 2\n",
    "f 5 = 3\n",
    "f x = x + f (x - 5) + f (x - 6)\n",
    "''';"
   ]
  },
  {
   "cell_type": "markdown",
   "id": "d13dec43-9474-43ef-8aea-20be2f56e0f8",
   "metadata": {},
   "source": [
    "$$\n",
    "cos(\\pi x) = \\dfrac{(-1)^x + (-1)^{-x}}{2}\n",
    "$$"
   ]
  },
  {
   "cell_type": "code",
   "execution_count": 3,
   "id": "b08631cb-61ef-4daf-9eec-cbdc6f40a8b4",
   "metadata": {},
   "outputs": [
    {
     "data": {
      "text/html": [
       "\n",
       "            <script\n",
       "                id=\"output-4525730560\"\n",
       "            >pre_run_cell && pre_run_cell('4525730560')</script>\n",
       "        "
      ],
      "text/plain": [
       "<IPython.core.display.HTML object>"
      ]
     },
     "metadata": {},
     "output_type": "display_data"
    },
    {
     "data": {
      "text/html": [
       "\n",
       "            <script>post_run_cell && post_run_cell('4525730560', 'True')</script>\n",
       "        "
      ],
      "text/plain": [
       "<IPython.core.display.HTML object>"
      ]
     },
     "metadata": {},
     "output_type": "display_data"
    }
   ],
   "source": [
    "# rule add 156\n",
    "def ip4i(x):\n",
    "    if not x in ip4i.cache:\n",
    "        ip4i.cache[x] = ip4i(x - 1) - ip4i(x - 5) - ip4i(x - 6)\n",
    "    return ip4i.cache[x]\n",
    "\n",
    "ip4i.cache = {\n",
    "    0: 1,\n",
    "    1: 2,\n",
    "    2: 2,\n",
    "    3: 2,\n",
    "    4: 2,\n",
    "    5: 3,\n",
    "}"
   ]
  },
  {
   "cell_type": "code",
   "execution_count": 4,
   "id": "fdc654f2-1cf7-4b21-9a59-cad0800e7e00",
   "metadata": {},
   "outputs": [
    {
     "data": {
      "text/html": [
       "\n",
       "            <script\n",
       "                id=\"output-4525733392\"\n",
       "            >pre_run_cell && pre_run_cell('4525733392')</script>\n",
       "        "
      ],
      "text/plain": [
       "<IPython.core.display.HTML object>"
      ]
     },
     "metadata": {},
     "output_type": "display_data"
    },
    {
     "data": {
      "text/plain": [
       "'ip4i'"
      ]
     },
     "execution_count": 4,
     "metadata": {},
     "output_type": "execute_result"
    },
    {
     "data": {
      "text/html": [
       "\n",
       "            <script>post_run_cell && post_run_cell('4525733392', 'True')</script>\n",
       "        "
      ],
      "text/plain": [
       "<IPython.core.display.HTML object>"
      ]
     },
     "metadata": {},
     "output_type": "display_data"
    }
   ],
   "source": [
    "ip4i.__name__"
   ]
  },
  {
   "cell_type": "code",
   "execution_count": 5,
   "id": "3b222d90-84fc-40fd-a587-cafda881ccd4",
   "metadata": {},
   "outputs": [],
   "source": [
    "import pandas as pd"
   ]
  },
  {
   "cell_type": "code",
   "execution_count": 8,
   "id": "254fb6e6-a1c1-41fe-a22d-180fd8cbe9ca",
   "metadata": {},
   "outputs": [
    {
     "data": {
      "text/html": [
       "<style type=\"text/css\">\n",
       "</style>\n",
       "<table id=\"T_d6d3a_\">\n",
       "  <thead>\n",
       "  </thead>\n",
       "  <tbody>\n",
       "    <tr>\n",
       "      <th id=\"T_d6d3a_level0_row0\" class=\"row_heading level0 row0\" >x</th>\n",
       "      <td id=\"T_d6d3a_row0_col0\" class=\"data row0 col0\" >0</td>\n",
       "      <td id=\"T_d6d3a_row0_col1\" class=\"data row0 col1\" >1</td>\n",
       "      <td id=\"T_d6d3a_row0_col2\" class=\"data row0 col2\" >2</td>\n",
       "      <td id=\"T_d6d3a_row0_col3\" class=\"data row0 col3\" >3</td>\n",
       "      <td id=\"T_d6d3a_row0_col4\" class=\"data row0 col4\" >4</td>\n",
       "      <td id=\"T_d6d3a_row0_col5\" class=\"data row0 col5\" >5</td>\n",
       "      <td id=\"T_d6d3a_row0_col6\" class=\"data row0 col6\" >6</td>\n",
       "      <td id=\"T_d6d3a_row0_col7\" class=\"data row0 col7\" >7</td>\n",
       "      <td id=\"T_d6d3a_row0_col8\" class=\"data row0 col8\" >8</td>\n",
       "      <td id=\"T_d6d3a_row0_col9\" class=\"data row0 col9\" >9</td>\n",
       "      <td id=\"T_d6d3a_row0_col10\" class=\"data row0 col10\" >10</td>\n",
       "      <td id=\"T_d6d3a_row0_col11\" class=\"data row0 col11\" >11</td>\n",
       "      <td id=\"T_d6d3a_row0_col12\" class=\"data row0 col12\" >12</td>\n",
       "      <td id=\"T_d6d3a_row0_col13\" class=\"data row0 col13\" >13</td>\n",
       "      <td id=\"T_d6d3a_row0_col14\" class=\"data row0 col14\" >14</td>\n",
       "      <td id=\"T_d6d3a_row0_col15\" class=\"data row0 col15\" >15</td>\n",
       "      <td id=\"T_d6d3a_row0_col16\" class=\"data row0 col16\" >16</td>\n",
       "      <td id=\"T_d6d3a_row0_col17\" class=\"data row0 col17\" >17</td>\n",
       "      <td id=\"T_d6d3a_row0_col18\" class=\"data row0 col18\" >18</td>\n",
       "      <td id=\"T_d6d3a_row0_col19\" class=\"data row0 col19\" >19</td>\n",
       "      <td id=\"T_d6d3a_row0_col20\" class=\"data row0 col20\" >20</td>\n",
       "      <td id=\"T_d6d3a_row0_col21\" class=\"data row0 col21\" >21</td>\n",
       "      <td id=\"T_d6d3a_row0_col22\" class=\"data row0 col22\" >22</td>\n",
       "      <td id=\"T_d6d3a_row0_col23\" class=\"data row0 col23\" >23</td>\n",
       "      <td id=\"T_d6d3a_row0_col24\" class=\"data row0 col24\" >24</td>\n",
       "      <td id=\"T_d6d3a_row0_col25\" class=\"data row0 col25\" >25</td>\n",
       "      <td id=\"T_d6d3a_row0_col26\" class=\"data row0 col26\" >26</td>\n",
       "      <td id=\"T_d6d3a_row0_col27\" class=\"data row0 col27\" >27</td>\n",
       "      <td id=\"T_d6d3a_row0_col28\" class=\"data row0 col28\" >28</td>\n",
       "      <td id=\"T_d6d3a_row0_col29\" class=\"data row0 col29\" >29</td>\n",
       "      <td id=\"T_d6d3a_row0_col30\" class=\"data row0 col30\" >30</td>\n",
       "      <td id=\"T_d6d3a_row0_col31\" class=\"data row0 col31\" >31</td>\n",
       "      <td id=\"T_d6d3a_row0_col32\" class=\"data row0 col32\" >32</td>\n",
       "      <td id=\"T_d6d3a_row0_col33\" class=\"data row0 col33\" >33</td>\n",
       "      <td id=\"T_d6d3a_row0_col34\" class=\"data row0 col34\" >34</td>\n",
       "      <td id=\"T_d6d3a_row0_col35\" class=\"data row0 col35\" >35</td>\n",
       "      <td id=\"T_d6d3a_row0_col36\" class=\"data row0 col36\" >36</td>\n",
       "      <td id=\"T_d6d3a_row0_col37\" class=\"data row0 col37\" >37</td>\n",
       "      <td id=\"T_d6d3a_row0_col38\" class=\"data row0 col38\" >38</td>\n",
       "      <td id=\"T_d6d3a_row0_col39\" class=\"data row0 col39\" >39</td>\n",
       "    </tr>\n",
       "    <tr>\n",
       "      <th id=\"T_d6d3a_level0_row1\" class=\"row_heading level0 row1\" >f</th>\n",
       "      <td id=\"T_d6d3a_row1_col0\" class=\"data row1 col0\" >1</td>\n",
       "      <td id=\"T_d6d3a_row1_col1\" class=\"data row1 col1\" >2</td>\n",
       "      <td id=\"T_d6d3a_row1_col2\" class=\"data row1 col2\" >2</td>\n",
       "      <td id=\"T_d6d3a_row1_col3\" class=\"data row1 col3\" >2</td>\n",
       "      <td id=\"T_d6d3a_row1_col4\" class=\"data row1 col4\" >2</td>\n",
       "      <td id=\"T_d6d3a_row1_col5\" class=\"data row1 col5\" >3</td>\n",
       "      <td id=\"T_d6d3a_row1_col6\" class=\"data row1 col6\" >0</td>\n",
       "      <td id=\"T_d6d3a_row1_col7\" class=\"data row1 col7\" >-4</td>\n",
       "      <td id=\"T_d6d3a_row1_col8\" class=\"data row1 col8\" >-8</td>\n",
       "      <td id=\"T_d6d3a_row1_col9\" class=\"data row1 col9\" >-12</td>\n",
       "      <td id=\"T_d6d3a_row1_col10\" class=\"data row1 col10\" >-17</td>\n",
       "      <td id=\"T_d6d3a_row1_col11\" class=\"data row1 col11\" >-20</td>\n",
       "      <td id=\"T_d6d3a_row1_col12\" class=\"data row1 col12\" >-16</td>\n",
       "      <td id=\"T_d6d3a_row1_col13\" class=\"data row1 col13\" >-4</td>\n",
       "      <td id=\"T_d6d3a_row1_col14\" class=\"data row1 col14\" >16</td>\n",
       "      <td id=\"T_d6d3a_row1_col15\" class=\"data row1 col15\" >45</td>\n",
       "      <td id=\"T_d6d3a_row1_col16\" class=\"data row1 col16\" >82</td>\n",
       "      <td id=\"T_d6d3a_row1_col17\" class=\"data row1 col17\" >118</td>\n",
       "      <td id=\"T_d6d3a_row1_col18\" class=\"data row1 col18\" >138</td>\n",
       "      <td id=\"T_d6d3a_row1_col19\" class=\"data row1 col19\" >126</td>\n",
       "      <td id=\"T_d6d3a_row1_col20\" class=\"data row1 col20\" >65</td>\n",
       "      <td id=\"T_d6d3a_row1_col21\" class=\"data row1 col21\" >-62</td>\n",
       "      <td id=\"T_d6d3a_row1_col22\" class=\"data row1 col22\" >-262</td>\n",
       "      <td id=\"T_d6d3a_row1_col23\" class=\"data row1 col23\" >-518</td>\n",
       "      <td id=\"T_d6d3a_row1_col24\" class=\"data row1 col24\" >-782</td>\n",
       "      <td id=\"T_d6d3a_row1_col25\" class=\"data row1 col25\" >-973</td>\n",
       "      <td id=\"T_d6d3a_row1_col26\" class=\"data row1 col26\" >-976</td>\n",
       "      <td id=\"T_d6d3a_row1_col27\" class=\"data row1 col27\" >-652</td>\n",
       "      <td id=\"T_d6d3a_row1_col28\" class=\"data row1 col28\" >128</td>\n",
       "      <td id=\"T_d6d3a_row1_col29\" class=\"data row1 col29\" >1428</td>\n",
       "      <td id=\"T_d6d3a_row1_col30\" class=\"data row1 col30\" >3183</td>\n",
       "      <td id=\"T_d6d3a_row1_col31\" class=\"data row1 col31\" >5132</td>\n",
       "      <td id=\"T_d6d3a_row1_col32\" class=\"data row1 col32\" >6760</td>\n",
       "      <td id=\"T_d6d3a_row1_col33\" class=\"data row1 col33\" >7284</td>\n",
       "      <td id=\"T_d6d3a_row1_col34\" class=\"data row1 col34\" >5728</td>\n",
       "      <td id=\"T_d6d3a_row1_col35\" class=\"data row1 col35\" >1117</td>\n",
       "      <td id=\"T_d6d3a_row1_col36\" class=\"data row1 col36\" >-7198</td>\n",
       "      <td id=\"T_d6d3a_row1_col37\" class=\"data row1 col37\" >-19090</td>\n",
       "      <td id=\"T_d6d3a_row1_col38\" class=\"data row1 col38\" >-33134</td>\n",
       "      <td id=\"T_d6d3a_row1_col39\" class=\"data row1 col39\" >-46146</td>\n",
       "    </tr>\n",
       "    <tr>\n",
       "      <th id=\"T_d6d3a_level0_row2\" class=\"row_heading level0 row2\" >odd</th>\n",
       "      <td id=\"T_d6d3a_row2_col0\" class=\"data row2 col0\" >1</td>\n",
       "      <td id=\"T_d6d3a_row2_col1\" class=\"data row2 col1\" >0</td>\n",
       "      <td id=\"T_d6d3a_row2_col2\" class=\"data row2 col2\" >0</td>\n",
       "      <td id=\"T_d6d3a_row2_col3\" class=\"data row2 col3\" >0</td>\n",
       "      <td id=\"T_d6d3a_row2_col4\" class=\"data row2 col4\" >0</td>\n",
       "      <td id=\"T_d6d3a_row2_col5\" class=\"data row2 col5\" >1</td>\n",
       "      <td id=\"T_d6d3a_row2_col6\" class=\"data row2 col6\" >0</td>\n",
       "      <td id=\"T_d6d3a_row2_col7\" class=\"data row2 col7\" >0</td>\n",
       "      <td id=\"T_d6d3a_row2_col8\" class=\"data row2 col8\" >0</td>\n",
       "      <td id=\"T_d6d3a_row2_col9\" class=\"data row2 col9\" >0</td>\n",
       "      <td id=\"T_d6d3a_row2_col10\" class=\"data row2 col10\" >1</td>\n",
       "      <td id=\"T_d6d3a_row2_col11\" class=\"data row2 col11\" >0</td>\n",
       "      <td id=\"T_d6d3a_row2_col12\" class=\"data row2 col12\" >0</td>\n",
       "      <td id=\"T_d6d3a_row2_col13\" class=\"data row2 col13\" >0</td>\n",
       "      <td id=\"T_d6d3a_row2_col14\" class=\"data row2 col14\" >0</td>\n",
       "      <td id=\"T_d6d3a_row2_col15\" class=\"data row2 col15\" >1</td>\n",
       "      <td id=\"T_d6d3a_row2_col16\" class=\"data row2 col16\" >0</td>\n",
       "      <td id=\"T_d6d3a_row2_col17\" class=\"data row2 col17\" >0</td>\n",
       "      <td id=\"T_d6d3a_row2_col18\" class=\"data row2 col18\" >0</td>\n",
       "      <td id=\"T_d6d3a_row2_col19\" class=\"data row2 col19\" >0</td>\n",
       "      <td id=\"T_d6d3a_row2_col20\" class=\"data row2 col20\" >1</td>\n",
       "      <td id=\"T_d6d3a_row2_col21\" class=\"data row2 col21\" >0</td>\n",
       "      <td id=\"T_d6d3a_row2_col22\" class=\"data row2 col22\" >0</td>\n",
       "      <td id=\"T_d6d3a_row2_col23\" class=\"data row2 col23\" >0</td>\n",
       "      <td id=\"T_d6d3a_row2_col24\" class=\"data row2 col24\" >0</td>\n",
       "      <td id=\"T_d6d3a_row2_col25\" class=\"data row2 col25\" >1</td>\n",
       "      <td id=\"T_d6d3a_row2_col26\" class=\"data row2 col26\" >0</td>\n",
       "      <td id=\"T_d6d3a_row2_col27\" class=\"data row2 col27\" >0</td>\n",
       "      <td id=\"T_d6d3a_row2_col28\" class=\"data row2 col28\" >0</td>\n",
       "      <td id=\"T_d6d3a_row2_col29\" class=\"data row2 col29\" >0</td>\n",
       "      <td id=\"T_d6d3a_row2_col30\" class=\"data row2 col30\" >1</td>\n",
       "      <td id=\"T_d6d3a_row2_col31\" class=\"data row2 col31\" >0</td>\n",
       "      <td id=\"T_d6d3a_row2_col32\" class=\"data row2 col32\" >0</td>\n",
       "      <td id=\"T_d6d3a_row2_col33\" class=\"data row2 col33\" >0</td>\n",
       "      <td id=\"T_d6d3a_row2_col34\" class=\"data row2 col34\" >0</td>\n",
       "      <td id=\"T_d6d3a_row2_col35\" class=\"data row2 col35\" >1</td>\n",
       "      <td id=\"T_d6d3a_row2_col36\" class=\"data row2 col36\" >0</td>\n",
       "      <td id=\"T_d6d3a_row2_col37\" class=\"data row2 col37\" >0</td>\n",
       "      <td id=\"T_d6d3a_row2_col38\" class=\"data row2 col38\" >0</td>\n",
       "      <td id=\"T_d6d3a_row2_col39\" class=\"data row2 col39\" >0</td>\n",
       "    </tr>\n",
       "  </tbody>\n",
       "</table>\n"
      ],
      "text/plain": [
       "<pandas.io.formats.style.Styler at 0x11e12f8b0>"
      ]
     },
     "execution_count": 8,
     "metadata": {},
     "output_type": "execute_result"
    }
   ],
   "source": [
    "r = pd.DataFrame(\n",
    "    [(x, y:=ip4i(x), y % 2) for x in range(0, 100)],\n",
    "    columns=['x', 'f', 'odd']\n",
    ")\n",
    "\n",
    "r.head(40).T.style.hide_columns()"
   ]
  },
  {
   "cell_type": "code",
   "execution_count": 330,
   "id": "815540c5-020a-48f1-b241-022a13f3d557",
   "metadata": {},
   "outputs": [
    {
     "data": {
      "image/png": "[encoded data removed]",
      "text/plain": [
       "<Figure size 432x288 with 1 Axes>"
      ]
     },
     "metadata": {
      "needs_background": "light"
     },
     "output_type": "display_data"
    }
   ],
   "source": [
    "r.head(90).plot();"
   ]
  },
  {
   "cell_type": "code",
   "execution_count": 331,
   "id": "3a060c36-cdbc-454a-bfbe-d48bd0c2a786",
   "metadata": {},
   "outputs": [],
   "source": [
    "def period(xs, window=1):\n",
    "    if window > len(xs) // 2:\n",
    "        return -1\n",
    "    else:\n",
    "        for i in range(window, len(xs) - 1):\n",
    "            if not all(a == b for a, b in zip(xs[i - window:i], xs[i:i + window])):\n",
    "                return period(xs, window + 1)\n",
    "        return window"
   ]
  },
  {
   "cell_type": "code",
   "execution_count": 332,
   "id": "94d08dec-6fa3-4c8e-a00f-f3dd5c2dd794",
   "metadata": {},
   "outputs": [
    {
     "data": {
      "text/plain": [
       "5"
      ]
     },
     "execution_count": 332,
     "metadata": {},
     "output_type": "execute_result"
    }
   ],
   "source": [
    "period(r['f'] % 2)"
   ]
  },
  {
   "cell_type": "code",
   "execution_count": 1,
   "id": "1713f43c-1895-48d9-9c70-d9e95093ff5e",
   "metadata": {},
   "outputs": [
    {
     "data": {
      "text/html": [
       "\n",
       "            <script\n",
       "                id=\"output-4421208144\"\n",
       "            >pre_run_cell && pre_run_cell('4421208144')</script>\n",
       "        "
      ],
      "text/plain": [
       "<IPython.core.display.HTML object>"
      ]
     },
     "metadata": {},
     "output_type": "display_data"
    },
    {
     "data": {
      "text/html": [
       "\n",
       "            <script>post_run_cell && post_run_cell('4421208144', 'True')</script>\n",
       "        "
      ],
      "text/plain": [
       "<IPython.core.display.HTML object>"
      ]
     },
     "metadata": {},
     "output_type": "display_data"
    }
   ],
   "source": [
    "!code ."
   ]
  },
  {
   "cell_type": "code",
   "execution_count": null,
   "id": "9caeb3cf-3d50-46c6-94ac-74baa07a8a5f",
   "metadata": {},
   "outputs": [],
   "source": []
  },
  {
   "cell_type": "code",
   "execution_count": null,
   "id": "53ea59ca-272f-4176-bbe0-5cbbff1c4d22",
   "metadata": {},
   "outputs": [],
   "source": []
  },
  {
   "cell_type": "code",
   "execution_count": null,
   "id": "e6797855-2f59-468d-ab09-dd32afbbea2b",
   "metadata": {},
   "outputs": [],
   "source": []
  },
  {
   "cell_type": "code",
   "execution_count": null,
   "id": "d1ed5e53-4178-4294-8e44-ab5611ad2f4f",
   "metadata": {},
   "outputs": [],
   "source": []
  },
  {
   "cell_type": "code",
   "execution_count": 1,
   "id": "f44f1103-00a4-4e9c-a275-882e4ca3a242",
   "metadata": {},
   "outputs": [
    {
     "data": {
      "text/html": [
       "\n",
       "            <script\n",
       "                id=\"output-4580917984\"\n",
       "            >pre_run_cell && pre_run_cell('4580917984')</script>\n",
       "        "
      ],
      "text/plain": [
       "<IPython.core.display.HTML object>"
      ]
     },
     "metadata": {},
     "output_type": "display_data"
    },
    {
     "data": {
      "text/plain": [
       "2"
      ]
     },
     "execution_count": 1,
     "metadata": {},
     "output_type": "execute_result"
    },
    {
     "data": {
      "text/html": [
       "\n",
       "            <script>post_run_cell && post_run_cell('4580917984', 'True')</script>\n",
       "        "
      ],
      "text/plain": [
       "<IPython.core.display.HTML object>"
      ]
     },
     "metadata": {},
     "output_type": "display_data"
    }
   ],
   "source": [
    "2"
   ]
  },
  {
   "cell_type": "code",
   "execution_count": null,
   "id": "a216e517-f248-4c98-968e-40c5bec39320",
   "metadata": {},
   "outputs": [],
   "source": []
  },
  {
   "cell_type": "code",
   "execution_count": null,
   "id": "c542aad7-7bb0-4e6b-a957-0f09eb133987",
   "metadata": {},
   "outputs": [],
   "source": []
  },
  {
   "cell_type": "code",
   "execution_count": null,
   "id": "a6eb2b82-385a-40df-80f9-5603952de11e",
   "metadata": {},
   "outputs": [],
   "source": []
  },
  {
   "cell_type": "code",
   "execution_count": null,
   "id": "aa5599d5-b634-4573-b9f2-21b6c76a6063",
   "metadata": {},
   "outputs": [],
   "source": []
  },
  {
   "cell_type": "code",
   "execution_count": null,
   "id": "8cb26241-f176-438a-8264-9b764b071a0b",
   "metadata": {},
   "outputs": [],
   "source": []
  }
 ],
 "metadata": {
  "kernelspec": {
   "display_name": "Python 3 (ipykernel)",
   "language": "python",
   "name": "python3"
  },
  "language_info": {
   "codemirror_mode": {
    "name": "ipython",
    "version": 3
   },
   "file_extension": ".py",
   "mimetype": "text/x-python",
   "name": "python",
   "nbconvert_exporter": "python",
   "pygments_lexer": "ipython3",
   "version": "3.10.0"
  }
 },
 "nbformat": 4,
 "nbformat_minor": 5
}
